{
 "cells": [
  {
   "attachments": {},
   "cell_type": "markdown",
   "metadata": {},
   "source": [
    "### Unit 30. 함수에서 위치 인수와 키워드 인수 사용하기\n",
    "- 위치 인수(positional argument): 함수에 인수를 순서대로 넣는 방식 "
   ]
  },
  {
   "cell_type": "code",
   "execution_count": 1,
   "metadata": {},
   "outputs": [
    {
     "name": "stdout",
     "output_type": "stream",
     "text": [
      "10 20 30\n"
     ]
    }
   ],
   "source": [
    "print(10, 20, 30)"
   ]
  },
  {
   "cell_type": "code",
   "execution_count": 3,
   "metadata": {},
   "outputs": [
    {
     "name": "stdout",
     "output_type": "stream",
     "text": [
      "1\n",
      "2\n",
      "3\n"
     ]
    }
   ],
   "source": [
    "def print_numbers(a, b, c):\n",
    "    print(a)\n",
    "    print(b)\n",
    "    print(c)\n",
    "\n",
    "print_numbers(1,2,3)"
   ]
  },
  {
   "cell_type": "code",
   "execution_count": 4,
   "metadata": {},
   "outputs": [
    {
     "name": "stdout",
     "output_type": "stream",
     "text": [
      "1\n",
      "2\n",
      "3\n"
     ]
    }
   ],
   "source": [
    "print_numbers(*[1,2,3]) #리스트 언패킹"
   ]
  },
  {
   "attachments": {},
   "cell_type": "markdown",
   "metadata": {},
   "source": [
    "__가변 인수 함수 만들기__\n",
    "- 가변 인수: 인수의 개수가 정해지지 않음  \n",
    "같은 함수에 인수 한개를 넣을 수도, 열개를 넣을 수도, 인수를 넣지 않을 수도 있음 \n",
    "\n",
    "- 가변 인수 함수는 매개변수 앞에 *를 붙여서 만듬\n",
    "- 매개 변수 이름은 관례적으로 args로 사용\n",
    "- args는 튜플이기 때문에 for로 반복할 수 있음 \n",
    "\n",
    "<숫자 여러 개를 받고, 숫자를 각 줄에 출력하는 함수>"
   ]
  },
  {
   "cell_type": "code",
   "execution_count": 5,
   "metadata": {},
   "outputs": [
    {
     "name": "stdout",
     "output_type": "stream",
     "text": [
      "10\n",
      "20\n",
      "30\n",
      "40\n"
     ]
    }
   ],
   "source": [
    "def print_numbers(*args):\n",
    "    for arg in args:\n",
    "        print(arg)\n",
    "\n",
    "print_numbers(10,20,30,40)\n"
   ]
  },
  {
   "attachments": {},
   "cell_type": "markdown",
   "metadata": {},
   "source": [
    "__고정 인수와 가변 인수를 함께 사용하기__\n",
    "- 고정 인수와 가변 인수를 함께 사용할 때는 고정 매개변수를 먼저 지정하고, 그 다음 매개변수에 *를 붙여줌\n",
    "- 이때 매개변수 순서에서 *args는 반드시 가장 뒤 쪽에 와야 함 "
   ]
  },
  {
   "attachments": {},
   "cell_type": "markdown",
   "metadata": {},
   "source": [
    "- 키워드 인수(keyword argument) :인수에 이름(키워드)을 붙이는 기능이며 키워드=값 형식으로 사용\n",
    "- 인수의 용도가 명확히 보이며, 인수의 순서를 맞추지 않아도 키워드에 해당하는 값이 들어감 "
   ]
  },
  {
   "attachments": {},
   "cell_type": "markdown",
   "metadata": {},
   "source": [
    "__키워드 인수와 딕셔너리 언패킹 사용하기__\n",
    "- 함수(**딕셔너리)"
   ]
  },
  {
   "cell_type": "code",
   "execution_count": 6,
   "metadata": {},
   "outputs": [
    {
     "name": "stdout",
     "output_type": "stream",
     "text": [
      "이름:  홍길동\n",
      "나이:  30\n",
      "주소:  서울시 용산구 이촌동\n"
     ]
    }
   ],
   "source": [
    "def personal_info(name, age, address):\n",
    "    print('이름: ', name)\n",
    "    print('나이: ', age)\n",
    "    print('주소: ', address)\n",
    "\n",
    "\"\"\"\n",
    "딕셔너리에 '키워드:값' 형식으로 인수를 저장하고, 앞에 **를 붙여서 함수에 넣어줌.\n",
    "이때 딕셔너리의 키는 반드시 문자열 형태여야 함 \n",
    "**x처럼 딕셔너리를 언패킹하면 딕셔너리의 값들이 함수의 인수로 들어감\n",
    "\"\"\"\n",
    "\n",
    "x = {'name':'홍길동','age':30,'address':'서울시 용산구 이촌동'}\n",
    "personal_info(**x)\n",
    "\n",
    "\"\"\"딕셔너리 언패킹 때는 함수의 매개변수와 딕셔너리 키 이름, 개수가 같아야 함\"\"\""
   ]
  },
  {
   "attachments": {},
   "cell_type": "markdown",
   "metadata": {},
   "source": [
    "__키워드 인수를 사용하는 가변 인수 함수 만들기__\n",
    "\n",
    "def 함수이름(**매개변수):  \n",
    "    \n",
    "        코드\n",
    "\n",
    "- 매개변수 이름은 관례적으로 kwargs를 사용\n",
    "- kwargs는 딕셔너리라서 for로 반복 가능 \n"
   ]
  },
  {
   "cell_type": "code",
   "execution_count": 9,
   "metadata": {},
   "outputs": [
    {
     "name": "stdout",
     "output_type": "stream",
     "text": [
      "name:홍길동\n",
      "age:30\n",
      "address:서울시 용산구 이촌동\n"
     ]
    }
   ],
   "source": [
    "def personal_info(**kwargs):\n",
    "    for kw, arg in kwargs.items():\n",
    "        print(kw,':',arg,sep='')\n",
    "\n",
    "personal_info(name='홍길동',age=30,address='서울시 용산구 이촌동')\n",
    "\n"
   ]
  },
  {
   "attachments": {},
   "cell_type": "markdown",
   "metadata": {},
   "source": [
    "__연습문제: 가장 높은 점수를 구하는 함수 만들기__  "
   ]
  },
  {
   "cell_type": "code",
   "execution_count": null,
   "metadata": {},
   "outputs": [],
   "source": [
    "korean, english, mathematics, science = 100, 86, 81, 91\n",
    "\n",
    "def get_max_score(*args):\n",
    "    return max(args)\n",
    "\n",
    "max_score = get_max_score(korean, english, mathematics, science)\n",
    "print('높은 점수:', max_score)"
   ]
  },
  {
   "attachments": {},
   "cell_type": "markdown",
   "metadata": {},
   "source": [
    "__심사문제: 가장 낮은 점수, 높은 점수와 평균 점수를 구하는 함수 만들기__\n",
    "\n",
    "표준 입력으로 국어, 영어, 수학, 과학 점수가 입력됩니다. 다음 소스 코드를 완성하여 가장 높은 점수, 가장 낮은 점수, 평균 점수가 출력되게 만드세요. 평균 점수는 실수로 출력되어야 합니다."
   ]
  },
  {
   "cell_type": "code",
   "execution_count": 10,
   "metadata": {},
   "outputs": [
    {
     "name": "stdout",
     "output_type": "stream",
     "text": [
      "낮은 점수: 76.00, 높은 점수: 89.00, 평균 점수: 82.75\n",
      "낮은 점수: 82.00, 높은 점수: 84.00, 평균 점수: 83.00\n"
     ]
    }
   ],
   "source": [
    "korean, english, mathematics, science = map(int, input().split())\n",
    "\n",
    "def get_min_max_score(*args):\n",
    "    return min(args), max(args)\n",
    "\n",
    "def get_average(**kwargs): \n",
    "    return float(sum(kwargs.values())/len(kwargs))\n",
    "\n",
    "min_score, max_score = get_min_max_score(korean, english, mathematics, science)\n",
    "average_score = get_average(korean=korean, english=english,\n",
    "                            mathematics=mathematics, science=science)\n",
    "print('낮은 점수: {0:.2f}, 높은 점수: {1:.2f}, 평균 점수: {2:.2f}'\n",
    "      .format(min_score, max_score, average_score))\n",
    " \n",
    "min_score, max_score = get_min_max_score(english, science)\n",
    "average_score = get_average(english=english, science=science)\n",
    "print('낮은 점수: {0:.2f}, 높은 점수: {1:.2f}, 평균 점수: {2:.2f}'\n",
    "      .format(min_score, max_score, average_score))\n",
    "\n"
   ]
  }
 ],
 "metadata": {
  "kernelspec": {
   "display_name": "ellieyj",
   "language": "python",
   "name": "python3"
  },
  "language_info": {
   "codemirror_mode": {
    "name": "ipython",
    "version": 3
   },
   "file_extension": ".py",
   "mimetype": "text/x-python",
   "name": "python",
   "nbconvert_exporter": "python",
   "pygments_lexer": "ipython3",
   "version": "3.8.15"
  },
  "orig_nbformat": 4
 },
 "nbformat": 4,
 "nbformat_minor": 2
}
