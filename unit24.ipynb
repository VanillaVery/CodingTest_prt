{
 "cells": [
  {
   "attachments": {},
   "cell_type": "markdown",
   "metadata": {},
   "source": [
    "### Unit 24. 문자열 응용하기\n",
    "__문자열 바꾸기__"
   ]
  },
  {
   "cell_type": "code",
   "execution_count": 70,
   "metadata": {},
   "outputs": [
    {
     "data": {
      "text/plain": [
       "'Hello,Python'"
      ]
     },
     "execution_count": 70,
     "metadata": {},
     "output_type": "execute_result"
    }
   ],
   "source": [
    "\"Hello,World\".replace('World','Python')"
   ]
  },
  {
   "attachments": {},
   "cell_type": "markdown",
   "metadata": {},
   "source": [
    "__문자 바꾸기__"
   ]
  },
  {
   "cell_type": "code",
   "execution_count": 71,
   "metadata": {},
   "outputs": [
    {
     "data": {
      "text/plain": [
       "'1ppl2'"
      ]
     },
     "execution_count": 71,
     "metadata": {},
     "output_type": "execute_result"
    }
   ],
   "source": [
    "table=str.maketrans('aeiou','12345')\n",
    "'apple'.translate(table)\n"
   ]
  },
  {
   "attachments": {},
   "cell_type": "markdown",
   "metadata": {},
   "source": [
    "__문자열 분리하기__  \n",
    "split()은 공백을 기준으로 문자열을 분리하여 리스트로 만듬"
   ]
  },
  {
   "cell_type": "code",
   "execution_count": 72,
   "metadata": {},
   "outputs": [
    {
     "data": {
      "text/plain": [
       "['apple', 'pear', 'grape', 'pineapple', 'orange']"
      ]
     },
     "execution_count": 72,
     "metadata": {},
     "output_type": "execute_result"
    }
   ],
   "source": [
    "'apple pear grape pineapple orange'.split()"
   ]
  },
  {
   "attachments": {},
   "cell_type": "markdown",
   "metadata": {},
   "source": [
    "__구분자 문자열과 문자열 리스트 연결하기__  \n",
    "join(리스트)는 구분자 문자열과 문자열 리스트의 요소를 연결하여 문자열로 만듬\n"
   ]
  },
  {
   "cell_type": "code",
   "execution_count": 73,
   "metadata": {},
   "outputs": [
    {
     "data": {
      "text/plain": [
       "'apple pear grape pineapple orange'"
      ]
     },
     "execution_count": 73,
     "metadata": {},
     "output_type": "execute_result"
    }
   ],
   "source": [
    "' '.join(['apple', 'pear', 'grape', 'pineapple', 'orange'])"
   ]
  },
  {
   "attachments": {},
   "cell_type": "markdown",
   "metadata": {},
   "source": [
    "__공백 삭제하기__"
   ]
  },
  {
   "cell_type": "code",
   "execution_count": 74,
   "metadata": {},
   "outputs": [
    {
     "name": "stdout",
     "output_type": "stream",
     "text": [
      "Python    \n",
      "   Python\n",
      "Python\n"
     ]
    }
   ],
   "source": [
    "print('   Python    '.lstrip()) #왼쪽공백 삭제\n",
    "print('   Python    '.rstrip()) #오른쪽 공백 삭제\n",
    "print('   Python    '.strip()) #양쪽 공백 삭제"
   ]
  },
  {
   "attachments": {},
   "cell_type": "markdown",
   "metadata": {},
   "source": [
    "__특정 문자 삭제하기__  \n",
    "strip('삭제할문자들')과 같이 삭제할 문자들을 문자열 형태로 넣어주면 문자열 양쪽에 있는 해당 문자를 삭제\n"
   ]
  },
  {
   "cell_type": "code",
   "execution_count": 75,
   "metadata": {},
   "outputs": [
    {
     "name": "stdout",
     "output_type": "stream",
     "text": [
      " python.\n",
      ", python\n",
      " python\n"
     ]
    }
   ],
   "source": [
    "print(', python.'.lstrip(',.')) #왼쪽의 특정 문자 삭제 \n",
    "print(', python.'.rstrip(',.')) #오른쪽의 특정 문자 삭제 \n",
    "print(', python.'.strip(',.')) #양쪽의 특정 문자 삭제"
   ]
  },
  {
   "attachments": {},
   "cell_type": "markdown",
   "metadata": {},
   "source": [
    "- __참고: 구두점을 간단하게 삭제하기__  \n",
    "string 모듈의 punctuation에는 모든 구두점이 들어있다. 다음과 같이 strip 메서드에 string.punctuation을 넣으면 문자열 양쪽의 모든 구두점을 간단하게 삭제할 수 있음."
   ]
  },
  {
   "cell_type": "code",
   "execution_count": 76,
   "metadata": {},
   "outputs": [
    {
     "name": "stdout",
     "output_type": "stream",
     "text": [
      " python\n",
      "!\"#$%&'()*+,-./:;<=>?@[\\]^_`{|}~\n",
      "python\n"
     ]
    }
   ],
   "source": [
    "import string\n",
    "print(', python.'.strip(string.punctuation)) # 구두점 제거\n",
    "print(string.punctuation) #모든 구두점\n",
    "print(', python.'.strip(string.punctuation).strip()) #공백도 제거"
   ]
  },
  {
   "attachments": {},
   "cell_type": "markdown",
   "metadata": {},
   "source": [
    "__문자열 정렬하기__\n",
    "- ljust(길이)는 문자열을 지정된 길이로 만든 뒤 왼쪽으로 정렬하며 남는 공간을 공백으로 채움(l은 왼쪽(left)을 의미).\n",
    "- rjust(길이)는 문자열을 지정된 길이로 만든 뒤 오른쪽으로 정렬하며 남는 공간을 공백으로 채움(r은 오른쪽(right)을 의미)\n",
    "- center(길이)는 문자열을 지정된 길이로 만든 뒤 가운데로 정렬하며 남는 공간을 공백으로 채움"
   ]
  },
  {
   "cell_type": "code",
   "execution_count": 77,
   "metadata": {},
   "outputs": [
    {
     "name": "stdout",
     "output_type": "stream",
     "text": [
      "\" python     \"\n",
      "\"     python \"\n",
      "\"   python   \"\n"
     ]
    }
   ],
   "source": [
    "print('\"','python'.ljust(10),'\"') #왼쪽으로 정렬\n",
    "print('\"','python'.rjust(10),'\"') #오른쪽으로 정렬\n",
    "print('\"','python'.center(10),'\"') #양쪽으로 정렬"
   ]
  },
  {
   "attachments": {},
   "cell_type": "markdown",
   "metadata": {},
   "source": [
    "__문자열 왼쪽에 0 채우기__  \n",
    "zfill(길이)는 지정된 길이에 맞춰서 문자열의 왼쪽에 0을 채움( zero fill을 의미)"
   ]
  },
  {
   "cell_type": "code",
   "execution_count": 78,
   "metadata": {},
   "outputs": [
    {
     "data": {
      "text/plain": [
       "'0035'"
      ]
     },
     "execution_count": 78,
     "metadata": {},
     "output_type": "execute_result"
    }
   ],
   "source": [
    "'35'.zfill(4)  "
   ]
  },
  {
   "attachments": {},
   "cell_type": "markdown",
   "metadata": {},
   "source": [
    "__문자열 위치 찾기__  \n",
    "- find('찾을문자열')은 문자열에서 특정 문자열을 찾아서 인덱스를 반환하고, 문자열이 없으면 -1을 반환\n",
    "\n",
    "- index('찾을문자열')은 왼쪽에서부터 특정 문자열을 찾아서 인덱스를 반환. 단, 문자열이 없으면 에러를 발생시킴"
   ]
  },
  {
   "cell_type": "code",
   "execution_count": 79,
   "metadata": {},
   "outputs": [
    {
     "name": "stdout",
     "output_type": "stream",
     "text": [
      "2\n",
      "-1\n"
     ]
    },
    {
     "data": {
      "text/plain": [
       "2"
      ]
     },
     "execution_count": 79,
     "metadata": {},
     "output_type": "execute_result"
    }
   ],
   "source": [
    "print('apple pineapple'.find('pl'))\n",
    "print('apple pineapple'.find('xy'))\n",
    "\n",
    "'apple pineapple'.index('pl')"
   ]
  },
  {
   "attachments": {},
   "cell_type": "markdown",
   "metadata": {},
   "source": [
    "__문자열 서식 지정자와 포매팅 사용하기__\n",
    "-  서식 지정자로 문자열 넣기"
   ]
  },
  {
   "cell_type": "code",
   "execution_count": 80,
   "metadata": {},
   "outputs": [
    {
     "data": {
      "text/plain": [
       "'I am Maria'"
      ]
     },
     "execution_count": 80,
     "metadata": {},
     "output_type": "execute_result"
    }
   ],
   "source": [
    "name= 'Maria'\n",
    "'I am %s' % name"
   ]
  },
  {
   "attachments": {},
   "cell_type": "markdown",
   "metadata": {},
   "source": [
    "- 서식 지정자로 숫자 넣기 "
   ]
  },
  {
   "cell_type": "code",
   "execution_count": 81,
   "metadata": {},
   "outputs": [
    {
     "data": {
      "text/plain": [
       "'I am 20 years old.'"
      ]
     },
     "execution_count": 81,
     "metadata": {},
     "output_type": "execute_result"
    }
   ],
   "source": [
    "'I am %d years old.' % 20"
   ]
  },
  {
   "attachments": {},
   "cell_type": "markdown",
   "metadata": {},
   "source": [
    "- 서식 지정자로 소수점 표현하기"
   ]
  },
  {
   "cell_type": "code",
   "execution_count": 82,
   "metadata": {},
   "outputs": [
    {
     "name": "stdout",
     "output_type": "stream",
     "text": [
      "\" 2.40 \"\n",
      "\"       2.40 \"\n",
      "\" 2.40       \"\n"
     ]
    }
   ],
   "source": [
    "print('\"','%.2f' % 2.4,'\"')\n",
    "print('\"','%10.2f' % 2.4,'\"')\n",
    "#점 앞에 정렬할 길이 지정, 점 뒤에 소수점 이하 자릿수를 지정\n",
    "\n",
    "#왼쪽 정렬은 문자열 길이에 -를 붙여주면 됨 \n",
    "print('\"','%-10.2f' % 2.4,'\"')"
   ]
  },
  {
   "attachments": {},
   "cell_type": "markdown",
   "metadata": {},
   "source": [
    "- 서식 지정자로 문자열 정렬하기"
   ]
  },
  {
   "cell_type": "code",
   "execution_count": 83,
   "metadata": {},
   "outputs": [
    {
     "data": {
      "text/plain": [
       "'    python'"
      ]
     },
     "execution_count": 83,
     "metadata": {},
     "output_type": "execute_result"
    }
   ],
   "source": [
    "'%10s' % 'python'\n",
    "#문자열을 지정된 길이로 만든 뒤 오른쪽으로 정렬하고 남는 공간을 공백으로 채움"
   ]
  },
  {
   "attachments": {},
   "cell_type": "markdown",
   "metadata": {},
   "source": [
    "__서식 지정자로 문자열 안에 값 여러 개 넣기__"
   ]
  },
  {
   "cell_type": "code",
   "execution_count": 84,
   "metadata": {},
   "outputs": [
    {
     "data": {
      "text/plain": [
       "'Today is 3 April'"
      ]
     },
     "execution_count": 84,
     "metadata": {},
     "output_type": "execute_result"
    }
   ],
   "source": [
    "'Today is %d %s' %(3,'April')"
   ]
  },
  {
   "attachments": {},
   "cell_type": "markdown",
   "metadata": {},
   "source": [
    "__format 메서드 사용하기__  \n",
    "문자열 포매팅은 { }(중괄호) 안에 포매팅을 지정하고 format 메서드로 값을 넣음\n",
    "\n"
   ]
  },
  {
   "cell_type": "code",
   "execution_count": 85,
   "metadata": {},
   "outputs": [
    {
     "name": "stdout",
     "output_type": "stream",
     "text": [
      "Hello, world!\n",
      "Hello, Python 3.6 Script\n"
     ]
    },
    {
     "data": {
      "text/plain": [
       "'Hello,Python 3.6'"
      ]
     },
     "execution_count": 85,
     "metadata": {},
     "output_type": "execute_result"
    }
   ],
   "source": [
    "print('Hello, {0}'.format('world!'))\n",
    "print('Hello, {0} {2} {1}'.format('Python', 'Script', 3.6))\n",
    "\n",
    "\"\"\"파이썬 3.6부터는 문자열을 만드는 더 간단한 방법을 제공. \n",
    "다음과 같이 변수에 값을 넣고 { }에 변수 이름을 지정하면 됨\"\"\"\n",
    "language='Python'\n",
    "version=3.6\n",
    "f'Hello,{language} {version}'"
   ]
  },
  {
   "attachments": {},
   "cell_type": "markdown",
   "metadata": {},
   "source": [
    "__format 메서드로 문자열 정렬하기__"
   ]
  },
  {
   "cell_type": "code",
   "execution_count": 86,
   "metadata": {},
   "outputs": [
    {
     "name": "stdout",
     "output_type": "stream",
     "text": [
      "\" python     \"\n",
      "\"     python \"\n"
     ]
    }
   ],
   "source": [
    "print('\"','{0:<10}'.format('python'),'\"')\n",
    "print('\"','{0:>10}'.format('python'),'\"')\n"
   ]
  },
  {
   "attachments": {},
   "cell_type": "markdown",
   "metadata": {},
   "source": [
    "__숫자 개수 맞추기__  \n",
    "정수와 실수 앞에 0을 넣어서 숫자 개수를 맞추는 방법"
   ]
  },
  {
   "cell_type": "code",
   "execution_count": 87,
   "metadata": {},
   "outputs": [
    {
     "name": "stdout",
     "output_type": "stream",
     "text": [
      "001\n",
      "035\n",
      "00003.60\n",
      "00150.37\n"
     ]
    }
   ],
   "source": [
    "print('%03d' % 1)\n",
    "print('{0:03d}'.format(35))\n",
    "\n",
    "print('%08.2f' %3.6)\n",
    "print('{0:08.2f}'.format(150.37))"
   ]
  },
  {
   "cell_type": "code",
   "execution_count": 88,
   "metadata": {},
   "outputs": [
    {
     "name": "stdout",
     "output_type": "stream",
     "text": [
      "15        \n",
      "1500000000\n",
      "xxxxxxxx15\n"
     ]
    }
   ],
   "source": [
    "print('{0:<10}'.format(15))\n",
    "print('{0:0<10}'.format(15)) \n",
    "print('{0:x>10}'.format(15))    # 남는 공간을 문자 x로 채움\n"
   ]
  },
  {
   "attachments": {},
   "cell_type": "markdown",
   "metadata": {},
   "source": [
    "__금액에서 천단위로 콤마 넣기__\n"
   ]
  },
  {
   "cell_type": "code",
   "execution_count": 89,
   "metadata": {},
   "outputs": [
    {
     "name": "stdout",
     "output_type": "stream",
     "text": [
      "1,234,456\n",
      "           1,234,456\n",
      "1,234,456\n",
      "           1,234,456\n",
      "000000000001,234,456\n"
     ]
    }
   ],
   "source": [
    "print(format(1234456,','))\n",
    "print('%20s' %format(1234456,',')) #길이 20에 오른쪽으로 정렬\n",
    "print('{0:,}'.format(1234456))\n",
    "print('{0:>20,}'.format(1234456)) #길이 20에 오른쪽으로 정렬\n",
    "print('{0:0>20,}'.format(1234456)) #길이 20에 오른쪽으로 정렬,0으로 채우기\n"
   ]
  },
  {
   "cell_type": "code",
   "execution_count": 90,
   "metadata": {},
   "outputs": [
    {
     "data": {
      "text/plain": [
       "0"
      ]
     },
     "execution_count": 90,
     "metadata": {},
     "output_type": "execute_result"
    }
   ],
   "source": [
    "'hello'.find('h')"
   ]
  },
  {
   "attachments": {},
   "cell_type": "markdown",
   "metadata": {},
   "source": [
    "__연습문제: 파일 경로에서 파일명만 가져오기__  \n",
    "다음 소스 코드를 완성하여 파일 경로에서 파일명만 출력되게 만드세요.  \n",
    "단, 경로에서 폴더의 깊이가 달라지더라도 파일명만 출력할 수 있어야 합니다.\n"
   ]
  },
  {
   "cell_type": "code",
   "execution_count": 91,
   "metadata": {},
   "outputs": [
    {
     "name": "stdout",
     "output_type": "stream",
     "text": [
      "python.exe\n"
     ]
    }
   ],
   "source": [
    "path = 'C:\\\\Users\\\\dojang\\\\AppData\\\\Local\\\\Programs\\\\Python\\\\Python36-32\\\\python.exe'\n",
    "\n",
    "x=path.split('\\\\')\n",
    "filename=x[-1]\n",
    "print(filename)\n",
    "\n"
   ]
  },
  {
   "cell_type": "code",
   "execution_count": 92,
   "metadata": {},
   "outputs": [
    {
     "data": {
      "text/plain": [
       "'python.exe'"
      ]
     },
     "execution_count": 92,
     "metadata": {},
     "output_type": "execute_result"
    }
   ],
   "source": [
    "path = 'C:\\\\Users\\\\dojang\\\\AppData\\\\Local\\\\Programs\\\\Python\\\\Python36-32\\\\python.exe'\n",
    "\n",
    "filename=path[path.rfind('\\\\') + 1:]\n",
    "filename"
   ]
  },
  {
   "attachments": {},
   "cell_type": "markdown",
   "metadata": {},
   "source": [
    "__심사문제: 특정 단어 개수 세기__  \n",
    "표준 입력으로 문자열이 입력됩니다. 입력된 문자열에서 'the'의 개수를 출력하는 프로그램을 만드세요.  \n",
    "(input에서 안내 문자열은 출력하지 않아야 합니다).  \n",
    "단, 모든 문자가 소문자인 'the'만 찾으면 되며 'them', 'there', 'their' 등은 포함하지 않아야 합니다.\n",
    "\n"
   ]
  },
  {
   "cell_type": "code",
   "execution_count": 113,
   "metadata": {},
   "outputs": [
    {
     "name": "stdout",
     "output_type": "stream",
     "text": [
      "6\n"
     ]
    }
   ],
   "source": [
    "words=input().split() # 표준 입력 후 공백으로 나누기\n",
    "import string\n",
    "count=0\n",
    "for word in words:\n",
    "    if word.strip(string.punctuation).strip()=='the':\n",
    "        count+=1\n",
    "    else:\n",
    "        continue\n",
    "print(count)"
   ]
  },
  {
   "attachments": {},
   "cell_type": "markdown",
   "metadata": {},
   "source": [
    "__심사문제: 높은 가격순으로 출력하기__  \n",
    "표준 입력으로 물품 가격 여러 개가 문자열 한 줄로 입력되고, 각 가격은 ;(세미콜론)으로 구분되어 있습니다.  \n",
    "입력된 가격을 높은 가격순으로 출력하는 프로그램을 만드세요(input에서 안내 문자열은 출력하지 않아야 합니다).  \n",
    "이때 가격은 길이를 9로 만든 뒤 오른쪽으로 정렬하고 천단위로 ,(콤마)를 넣으세요."
   ]
  },
  {
   "cell_type": "code",
   "execution_count": 120,
   "metadata": {},
   "outputs": [
    {
     "name": "stdout",
     "output_type": "stream",
     "text": [
      "1,304,000\n",
      "  367,500\n",
      "  250,000\n",
      "  158,000\n",
      "  128,500\n",
      "   83,000\n",
      "   59,200\n",
      "   51,900\n"
     ]
    }
   ],
   "source": [
    "prices=list(map(int,input().split(';')))\n",
    "prices.sort(reverse=True)\n",
    "for price in prices:\n",
    "    print( '{:>9,}'.format(price),end='\\n')"
   ]
  }
 ],
 "metadata": {
  "kernelspec": {
   "display_name": "base",
   "language": "python",
   "name": "python3"
  },
  "language_info": {
   "codemirror_mode": {
    "name": "ipython",
    "version": 3
   },
   "file_extension": ".py",
   "mimetype": "text/x-python",
   "name": "python",
   "nbconvert_exporter": "python",
   "pygments_lexer": "ipython3",
   "version": "3.8.5"
  },
  "orig_nbformat": 4
 },
 "nbformat": 4,
 "nbformat_minor": 2
}
