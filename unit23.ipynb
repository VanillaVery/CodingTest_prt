{
 "cells": [
  {
   "attachments": {},
   "cell_type": "markdown",
   "metadata": {},
   "source": [
    "### Unit 23. 2차원 리스트 사용하기\n",
    "2차원 리스트는 리스트 안에 리스트를 넣어서 만들 수 있으며 안쪽의 각 리스트는 ,(콤마)로 구분"
   ]
  },
  {
   "cell_type": "code",
   "execution_count": 3,
   "metadata": {},
   "outputs": [
    {
     "data": {
      "text/plain": [
       "[[10, 20], [30, 40], [50, 60]]"
      ]
     },
     "execution_count": 3,
     "metadata": {},
     "output_type": "execute_result"
    }
   ],
   "source": [
    "a = [[10, 20], \n",
    "    [30, 40],\n",
    "    [50, 60]]\n",
    "a"
   ]
  },
  {
   "attachments": {},
   "cell_type": "markdown",
   "metadata": {},
   "source": [
    "__2차원 리스트의 요소에 접근하기__"
   ]
  },
  {
   "cell_type": "code",
   "execution_count": 4,
   "metadata": {},
   "outputs": [
    {
     "name": "stdout",
     "output_type": "stream",
     "text": [
      "40\n"
     ]
    },
    {
     "data": {
      "text/plain": [
       "[[10, 1000], [30, 40], [50, 60]]"
      ]
     },
     "execution_count": 4,
     "metadata": {},
     "output_type": "execute_result"
    }
   ],
   "source": [
    "a = [[10, 20], [30, 40], [50, 60]]\n",
    "print(a[1][1])\n",
    "a[0][1] = 1000\n",
    "a"
   ]
  },
  {
   "attachments": {},
   "cell_type": "markdown",
   "metadata": {},
   "source": [
    "__반복문으로 2차원 리스트의 요소를 모두 출력하기__\n",
    "- for 반복문을 한 번만 사용하기"
   ]
  },
  {
   "cell_type": "code",
   "execution_count": 5,
   "metadata": {},
   "outputs": [
    {
     "name": "stdout",
     "output_type": "stream",
     "text": [
      "10 20\n",
      "30 40\n",
      "50 60\n"
     ]
    }
   ],
   "source": [
    "a = [[10, 20], [30, 40], [50, 60]]\n",
    "for x , y in a:\n",
    "    print(x,y)"
   ]
  },
  {
   "attachments": {},
   "cell_type": "markdown",
   "metadata": {},
   "source": [
    "- for 반복문을 두 번 사용하기"
   ]
  },
  {
   "cell_type": "code",
   "execution_count": 8,
   "metadata": {},
   "outputs": [
    {
     "name": "stdout",
     "output_type": "stream",
     "text": [
      "10 20 \n",
      "30 40 \n",
      "50 60 \n"
     ]
    }
   ],
   "source": [
    "a = [[10, 20], [30, 40], [50, 60]]\n",
    "\n",
    "for i in a:\n",
    "    for j in i:\n",
    "        print(j,end=' ')\n",
    "    print()"
   ]
  },
  {
   "attachments": {},
   "cell_type": "markdown",
   "metadata": {},
   "source": [
    "__for와 range 사용하기__"
   ]
  },
  {
   "cell_type": "code",
   "execution_count": 10,
   "metadata": {},
   "outputs": [
    {
     "name": "stdout",
     "output_type": "stream",
     "text": [
      "10 20 \n",
      "30 40 \n",
      "50 60 \n"
     ]
    }
   ],
   "source": [
    "a = [[10, 20], [30, 40], [50, 60]]\n",
    "\n",
    "for i in range(len(a)) :\n",
    "    for j in range(len(a[i])):\n",
    "        print(a[i][j], end=' ')\n",
    "    print()"
   ]
  },
  {
   "attachments": {},
   "cell_type": "markdown",
   "metadata": {},
   "source": [
    "__while 반복문을 한 번 사용하기__"
   ]
  },
  {
   "cell_type": "code",
   "execution_count": 11,
   "metadata": {},
   "outputs": [
    {
     "name": "stdout",
     "output_type": "stream",
     "text": [
      "10 20\n",
      "30 40\n",
      "50 60\n"
     ]
    }
   ],
   "source": [
    "a = [[10, 20], [30, 40], [50, 60]]\n",
    "\n",
    "i=0\n",
    "while i<len(a):\n",
    "    x,y = a[i]\n",
    "    print(x,y)\n",
    "    i+=1"
   ]
  },
  {
   "attachments": {},
   "cell_type": "markdown",
   "metadata": {},
   "source": [
    "__while 반복문을 두 번 사용하기__"
   ]
  },
  {
   "cell_type": "code",
   "execution_count": 12,
   "metadata": {},
   "outputs": [
    {
     "name": "stdout",
     "output_type": "stream",
     "text": [
      "10 20 \n",
      "30 40 \n",
      "50 60 \n"
     ]
    }
   ],
   "source": [
    "a = [[10, 20], [30, 40], [50, 60]]\n",
    "\n",
    "i = 0\n",
    "while i<len(a):\n",
    "    j=0\n",
    "    while j<len(a[i]):\n",
    "        print(a[i][j],end=' ')\n",
    "        j+=1\n",
    "    print()\n",
    "    i+=1"
   ]
  },
  {
   "attachments": {},
   "cell_type": "markdown",
   "metadata": {},
   "source": [
    "__반복문으로 리스트 만들기__\n",
    "- for 반복문으로 2차원 리스트 만들기"
   ]
  },
  {
   "cell_type": "code",
   "execution_count": 13,
   "metadata": {},
   "outputs": [
    {
     "name": "stdout",
     "output_type": "stream",
     "text": [
      "[[0, 0], [0, 0], [0, 0]]\n"
     ]
    }
   ],
   "source": [
    "a=[]\n",
    "\n",
    "for i in range(3):\n",
    "    line=[]\n",
    "    for j in range(2):\n",
    "        line.append(0)\n",
    "    a.append(line)\n",
    "\n",
    "print(a)"
   ]
  },
  {
   "attachments": {},
   "cell_type": "markdown",
   "metadata": {},
   "source": [
    "__리스트 표현식으로 2차원 리스트 만들기__"
   ]
  },
  {
   "cell_type": "code",
   "execution_count": 15,
   "metadata": {},
   "outputs": [
    {
     "data": {
      "text/plain": [
       "[[0, 0], [0, 0], [0, 0]]"
      ]
     },
     "execution_count": 15,
     "metadata": {},
     "output_type": "execute_result"
    }
   ],
   "source": [
    "a=[[0 for i in range(2)] for i in range(3) ]\n",
    "a"
   ]
  },
  {
   "attachments": {},
   "cell_type": "markdown",
   "metadata": {},
   "source": [
    "___톱니형 리스트 만들기__"
   ]
  },
  {
   "cell_type": "code",
   "execution_count": 17,
   "metadata": {},
   "outputs": [
    {
     "name": "stdout",
     "output_type": "stream",
     "text": [
      "[[0, 0, 0], [0], [0, 0, 0], [0, 0], [0, 0, 0, 0, 0]]\n"
     ]
    }
   ],
   "source": [
    "a = [3, 1, 3, 2, 5]    # 가로 크기를 저장한 리스트\n",
    "b = []\n",
    "\n",
    "for i in a:\n",
    "    line = []\n",
    "    for j in range(i):\n",
    "        line.append(0)\n",
    "    b.append(line)\n",
    "\n",
    "print(b)"
   ]
  },
  {
   "attachments": {},
   "cell_type": "markdown",
   "metadata": {},
   "source": [
    "__sorted로 2차원 리스트 정렬하기__  \n",
    "sorted(반복가능한객체, key=정렬함수, reverse=True 또는 False)"
   ]
  },
  {
   "cell_type": "code",
   "execution_count": 18,
   "metadata": {},
   "outputs": [
    {
     "name": "stdout",
     "output_type": "stream",
     "text": [
      "[['maria', 'A', 25], ['andrew', 'B', 7], ['john', 'C', 19]]\n",
      "[['andrew', 'B', 7], ['john', 'C', 19], ['maria', 'A', 25]]\n"
     ]
    }
   ],
   "source": [
    "students = [\n",
    "    ['john', 'C', 19],\n",
    "    ['maria', 'A', 25],\n",
    "    ['andrew', 'B', 7]\n",
    "]\n",
    " \n",
    "print(sorted(students, key=lambda student: student[1]))  # 안쪽 리스트의 인덱스 1을 기준으로 정렬\n",
    "print(sorted(students, key=lambda student: student[2]))  # 안쪽 리스트의 인덱스 2를 기준으로 정렬"
   ]
  },
  {
   "attachments": {},
   "cell_type": "markdown",
   "metadata": {},
   "source": [
    "__2차원 리스트의 할당과 복사 알아보기__\n",
    "- 2차원 이상의 다차원 리스트는 리스트를 완전히 복사하려면 copy 메서드 대신 copy 모듈의 deepcopy 함수를 사용해야 함!!\n",
    "- copy.deepcopy 함수는 중첩된 리스트(튜플)에 들어있는 모든 리스트(튜플)를 복사하는 깊은 복사(deep copy)를 해줌."
   ]
  },
  {
   "cell_type": "code",
   "execution_count": 19,
   "metadata": {},
   "outputs": [
    {
     "name": "stdout",
     "output_type": "stream",
     "text": [
      "[[10, 20], [30, 40]]\n",
      "[[500, 20], [30, 40]]\n"
     ]
    }
   ],
   "source": [
    "a = [[10, 20], [30, 40]]\n",
    "import copy\n",
    "b=copy.deepcopy(a)\n",
    "b[0][0]=500\n",
    "\n",
    "print(a)\n",
    "print(b)"
   ]
  },
  {
   "attachments": {},
   "cell_type": "markdown",
   "metadata": {},
   "source": [
    "__심사문제: 지뢰찾기__  \n",
    "표준 입력으로 2차원 리스트의 가로(col)와 세로(row)가 입력되고 그 다음 줄부터 리스트의 요소로 들어갈 문자가 입력됩니다.  \n",
    "이때 2차원 리스트 안에서 *는 지뢰이고 .은 지뢰가 아닙니다. 지뢰가 아닌 요소에는 인접한 지뢰의 개수를 출력하는 프로그램을 만드세요(input에서 안내 문자열은 출력하지 않아야 합니다).\n",
    "\n",
    "여러 줄을 입력 받으려면 다음과 같이 for 반복문에서 input을 호출한 뒤 append로 각 줄을 추가하면 됩니다.  \n",
    "(list 안에 문자열을 넣으면 문자열이 문자 리스트로 변환됩니다)."
   ]
  },
  {
   "cell_type": "code",
   "execution_count": null,
   "metadata": {},
   "outputs": [],
   "source": [
    "matrix = []\n",
    "for i in range(row):\n",
    "    matrix.append(list(input()))"
   ]
  },
  {
   "attachments": {},
   "cell_type": "markdown",
   "metadata": {},
   "source": [
    "- 내가 푼 답안:"
   ]
  },
  {
   "cell_type": "code",
   "execution_count": 79,
   "metadata": {},
   "outputs": [],
   "source": [
    "row, col = map(int, input().split())\n",
    "\n",
    "matrix=[]\n",
    "for i in range(row):\n",
    "    matrix.append(list(input()))"
   ]
  },
  {
   "cell_type": "code",
   "execution_count": 85,
   "metadata": {},
   "outputs": [
    {
     "name": "stdout",
     "output_type": "stream",
     "text": [
      "[   ['.', '.', '*', '.', '.'],\n",
      "    ['.', '.', '.', '*', '.'],\n",
      "    ['.', '*', '.', '.', '.'],\n",
      "    ['.', '*', '*', '*', '.'],\n",
      "    ['*', '.', '*', '.', '.']]\n"
     ]
    }
   ],
   "source": [
    "from pprint import pprint\n",
    "pprint(matrix,indent=4,width=30)"
   ]
  },
  {
   "cell_type": "code",
   "execution_count": 87,
   "metadata": {},
   "outputs": [
    {
     "name": "stdout",
     "output_type": "stream",
     "text": [
      "01*21\n",
      "123*1\n",
      "2*532\n",
      "3***1\n",
      "*4*31\n"
     ]
    }
   ],
   "source": [
    "\n",
    "temp=[]\n",
    "rowmatrix = []\n",
    "for i in range(len(matrix)): \n",
    "    lst=[]\n",
    "    for j in range(len(matrix[i])):\n",
    "        if matrix[i][j]=='*':\n",
    "            lst.append('*')\n",
    "        else:\n",
    "            for plus1, plus2 in [[i,j] for i in range(-1,2) for j in range(-1,2)]:\n",
    "                if (i+plus1 < 0 or j+plus2 < 0 or i+plus1 > row -1 or j + plus2 > row -1) \\\n",
    "                    or (plus1==0 and plus2==0):\n",
    "                    pass\n",
    "                else:\n",
    "                    temp.append(matrix[i+plus1][j+plus2])\n",
    "            lst.append(temp.count('*'))\n",
    "            temp=[]     \n",
    "    rowmatrix.append(lst)        \n",
    "            \n",
    "for i in range(len(rowmatrix)):\n",
    "    for j in range(len(rowmatrix[i])):\n",
    "        print(rowmatrix[i][j],end='')\n",
    "    print()"
   ]
  },
  {
   "cell_type": "markdown",
   "metadata": {},
   "source": []
  },
  {
   "cell_type": "code",
   "execution_count": 82,
   "metadata": {},
   "outputs": [
    {
     "data": {
      "text/plain": [
       "5"
      ]
     },
     "execution_count": 82,
     "metadata": {},
     "output_type": "execute_result"
    }
   ],
   "source": [
    "row"
   ]
  },
  {
   "cell_type": "code",
   "execution_count": null,
   "metadata": {},
   "outputs": [],
   "source": [
    "..*.."
   ]
  }
 ],
 "metadata": {
  "kernelspec": {
   "display_name": "ellieyj",
   "language": "python",
   "name": "python3"
  },
  "language_info": {
   "codemirror_mode": {
    "name": "ipython",
    "version": 3
   },
   "file_extension": ".py",
   "mimetype": "text/x-python",
   "name": "python",
   "nbconvert_exporter": "python",
   "pygments_lexer": "ipython3",
   "version": "3.8.15"
  },
  "orig_nbformat": 4
 },
 "nbformat": 4,
 "nbformat_minor": 2
}
