{
 "cells": [
  {
   "attachments": {},
   "cell_type": "markdown",
   "metadata": {},
   "source": [
    "### Unit 26. 세트 사용하기\n",
    "- 세트 = {값1, 값2, 값3}\n",
    "- 요소의 순서가 정해져 있지 않음 \n",
    "- 세트에 들어가는 요소는 중복될 수 없음\n",
    "- 리스트, 튜플, 딕셔너리와는 달리 대괄호로 특정 요소만 출력할 수는 없음\n",
    "- 세트 안에 세트를 넣을 수 없음\n"
   ]
  },
  {
   "attachments": {},
   "cell_type": "markdown",
   "metadata": {},
   "source": [
    "__세트에 특정 값이 있는지 확인하기__\n",
    "- 값 in 세트"
   ]
  },
  {
   "cell_type": "code",
   "execution_count": 1,
   "metadata": {},
   "outputs": [
    {
     "data": {
      "text/plain": [
       "True"
      ]
     },
     "execution_count": 1,
     "metadata": {},
     "output_type": "execute_result"
    }
   ],
   "source": [
    "fruits = {'strawberry', 'grape', 'orange', 'pineapple', 'cherry'}\n",
    "'orange' in fruits"
   ]
  },
  {
   "cell_type": "code",
   "execution_count": 3,
   "metadata": {},
   "outputs": [
    {
     "data": {
      "text/plain": [
       "{'a', 'e', 'l', 'p'}"
      ]
     },
     "execution_count": 3,
     "metadata": {},
     "output_type": "execute_result"
    }
   ],
   "source": [
    "set('apple') #문자열을 세트에 넣으면 유일한 문자들만 세트로 만들어짐"
   ]
  },
  {
   "attachments": {},
   "cell_type": "markdown",
   "metadata": {},
   "source": [
    "__집합 연산 사용하기__\n",
    "- 세트1 | 세트2\n",
    "- set.union(세트1, 세트2)"
   ]
  },
  {
   "cell_type": "code",
   "execution_count": 8,
   "metadata": {},
   "outputs": [
    {
     "name": "stdout",
     "output_type": "stream",
     "text": [
      "{1, 2, 3, 4, 5, 6}\n",
      "{1, 2, 3, 4, 5, 6}\n",
      "{3, 4}\n",
      "{3, 4}\n",
      "{1, 2}\n",
      "{1, 2}\n",
      "{1, 2, 5, 6}\n",
      "{1, 2, 5, 6}\n"
     ]
    }
   ],
   "source": [
    "a = {1, 2, 3, 4}\n",
    "b = {3, 4, 5, 6}\n",
    "#합집합\n",
    "print(a | b)\n",
    "print(set.union(a, b))\n",
    "#교집합\n",
    "print(a & b)\n",
    "print(set.intersection(a,b))\n",
    "#차집합\n",
    "print(a - b)\n",
    "print(set.difference(a,b))\n",
    "#대칭차집합\n",
    "print(a^b)\n",
    "print(set.symmetric_difference(a,b))\n"
   ]
  },
  {
   "attachments": {},
   "cell_type": "markdown",
   "metadata": {},
   "source": [
    "__집합 연산 후 할당 연산자 사용하기__\n"
   ]
  },
  {
   "cell_type": "code",
   "execution_count": 10,
   "metadata": {},
   "outputs": [
    {
     "name": "stdout",
     "output_type": "stream",
     "text": [
      "{1, 2, 3, 4, 5}\n",
      "{1, 2, 3, 4, 5}\n"
     ]
    }
   ],
   "source": [
    "\"\"\"현제 세트에 다른 세트를 더함\"\"\"\n",
    "a = {1, 2, 3, 4}\n",
    "a |= {5}\n",
    "print(a)\n",
    "a = {1, 2, 3, 4}\n",
    "a.update({5})\n",
    "print(a)"
   ]
  },
  {
   "cell_type": "code",
   "execution_count": 11,
   "metadata": {},
   "outputs": [
    {
     "name": "stdout",
     "output_type": "stream",
     "text": [
      "{1, 2, 3, 4}\n",
      "{1, 2, 3, 4}\n"
     ]
    }
   ],
   "source": [
    "\"\"\"현재 세트와 다른 세트 중에서 겹치는 요소만 현재 세트에 저장\"\"\"\n",
    "a = {1, 2, 3, 4}\n",
    "a &= {0,1,2,3,4}\n",
    "print(a)\n",
    "\n",
    "a = {1, 2, 3, 4}\n",
    "a.intersection_update({0,1,2,3,4})\n",
    "print(a)"
   ]
  },
  {
   "cell_type": "code",
   "execution_count": 12,
   "metadata": {},
   "outputs": [
    {
     "name": "stdout",
     "output_type": "stream",
     "text": [
      "{1, 2, 4}\n",
      "{1, 2, 4}\n"
     ]
    }
   ],
   "source": [
    "\"\"\"현재 세트에서 다른 세트를 뺌\"\"\"\n",
    "a = {1, 2, 3, 4}\n",
    "a -= {3}\n",
    "print(a)\n",
    "\n",
    "a = {1, 2, 3, 4}\n",
    "a.difference_update({3})\n",
    "print(a)"
   ]
  },
  {
   "cell_type": "code",
   "execution_count": 14,
   "metadata": {},
   "outputs": [
    {
     "name": "stdout",
     "output_type": "stream",
     "text": [
      "{1, 2, 5, 6}\n",
      "{1, 2, 5, 6}\n"
     ]
    }
   ],
   "source": [
    "\"\"\"현재 세트와 다른 세트 중에서 겹치지 않는 요소만 현재 세트에 저장\"\"\"\n",
    "a = {1, 2, 3, 4}\n",
    "a ^= {3,4,5,6}\n",
    "print(a)\n",
    "\n",
    "a = {1, 2, 3, 4}\n",
    "a.symmetric_difference_update({3,4,5,6})\n",
    "print(a)"
   ]
  },
  {
   "attachments": {},
   "cell_type": "markdown",
   "metadata": {},
   "source": [
    "__부분 집합과 상위집합 확인하기__\n"
   ]
  },
  {
   "cell_type": "code",
   "execution_count": 16,
   "metadata": {},
   "outputs": [
    {
     "name": "stdout",
     "output_type": "stream",
     "text": [
      "True\n",
      "True\n"
     ]
    }
   ],
   "source": [
    "a = {1, 2, 3, 4}\n",
    "print(a <={1,2,3,4,5})\n",
    "print(a.issubset({1,2,3,4,5}))\n"
   ]
  },
  {
   "attachments": {},
   "cell_type": "markdown",
   "metadata": {},
   "source": [
    "__세트가 겹치지 않는지 확인하기__"
   ]
  },
  {
   "cell_type": "code",
   "execution_count": 17,
   "metadata": {},
   "outputs": [
    {
     "data": {
      "text/plain": [
       "True"
      ]
     },
     "execution_count": 17,
     "metadata": {},
     "output_type": "execute_result"
    }
   ],
   "source": [
    "\"\"\"현재 세트가 다른 세트와 겹치지 않는지 확인\"\"\"\n",
    "a = {1, 2, 3, 4}\n",
    "a.isdisjoint({5,6,7,8})"
   ]
  },
  {
   "attachments": {},
   "cell_type": "markdown",
   "metadata": {},
   "source": [
    "__세트에 요소 추가/삭제하기__"
   ]
  },
  {
   "cell_type": "code",
   "execution_count": 19,
   "metadata": {},
   "outputs": [
    {
     "name": "stdout",
     "output_type": "stream",
     "text": [
      "{1, 2, 3, 4, 5}\n",
      "{1, 2, 3}\n",
      "{1, 2, 3}\n"
     ]
    }
   ],
   "source": [
    "a = {1, 2, 3, 4}\n",
    "a.add(5)\n",
    "print(a)\n",
    "\n",
    "a = {1, 2, 3, 4}\n",
    "a.remove(4) # 요소가 있으면 삭제하고 없으면 에러 발생시킴\n",
    "print(a)\n",
    "\n",
    "a = {1, 2, 3, 4}\n",
    "a.discard(4) # 요소가 있으면 삭제하고 없으면 그냥 넘어감\n",
    "print(a)\n"
   ]
  },
  {
   "attachments": {},
   "cell_type": "markdown",
   "metadata": {},
   "source": [
    "__심사 문제__  \n",
    "표준 입력으로 양의 정수 두 개가 입력됩니다. 다음 소스 코드를 완성하여 두 숫자의 공약수를 세트 형태로 구하도록 만드세요.  \n",
    "단, 최종 결과는 공약수의 합으로 판단합니다."
   ]
  },
  {
   "cell_type": "code",
   "execution_count": 24,
   "metadata": {},
   "outputs": [
    {
     "name": "stdout",
     "output_type": "stream",
     "text": [
      "18\n"
     ]
    }
   ],
   "source": [
    "int1, int2 = map(int, input().split())\n",
    "a=set(i for i in range(1,int1+1) if int1 % i==0)\n",
    "b=set(i for i in range(1,int2+1) if int2 % i==0)\n",
    "\n",
    "divisor = a & b\n",
    " \n",
    "result = 0\n",
    "if type(divisor) == set:\n",
    "    result = sum(divisor)\n",
    " \n",
    "print(result)"
   ]
  },
  {
   "cell_type": "markdown",
   "metadata": {},
   "source": []
  }
 ],
 "metadata": {
  "kernelspec": {
   "display_name": "ellieyj",
   "language": "python",
   "name": "python3"
  },
  "language_info": {
   "codemirror_mode": {
    "name": "ipython",
    "version": 3
   },
   "file_extension": ".py",
   "mimetype": "text/x-python",
   "name": "python",
   "nbconvert_exporter": "python",
   "pygments_lexer": "ipython3",
   "version": "3.8.15"
  },
  "orig_nbformat": 4
 },
 "nbformat": 4,
 "nbformat_minor": 2
}
