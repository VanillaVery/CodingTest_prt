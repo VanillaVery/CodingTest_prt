{
 "cells": [
  {
   "attachments": {},
   "cell_type": "markdown",
   "metadata": {},
   "source": [
    "### unit 37. 두 점 사이의 거리 구하기 \n",
    "클래스를 활용하여 2차원 평면에서 위치를 표현한 뒤 두 점 사이의 거리를 구해보자.  \n",
    " \n",
    "__클래스로 점 구현하기__"
   ]
  },
  {
   "cell_type": "code",
   "execution_count": 2,
   "metadata": {},
   "outputs": [
    {
     "name": "stdout",
     "output_type": "stream",
     "text": [
      "p1: 30 20\n",
      "p2: 60 50\n"
     ]
    }
   ],
   "source": [
    "class Point2D:\n",
    "    def __init__(self, x,y):\n",
    "        self.x = x\n",
    "        self.y = y\n",
    "\n",
    "p1=Point2D(x=30,y=20)\n",
    "p2=Point2D(x=60,y=50)\n",
    "\n",
    "print('p1: {} {}'.format(p1.x,p1.y))\n",
    "print('p2: {} {}'.format(p2.x,p2.y))\n"
   ]
  },
  {
   "attachments": {},
   "cell_type": "markdown",
   "metadata": {},
   "source": [
    "__피타고라스의 정리로 두 점의 거리 구하기__  \n",
    "- $a^2 + b^2 = c^2$\n"
   ]
  },
  {
   "cell_type": "code",
   "execution_count": null,
   "metadata": {},
   "outputs": [],
   "source": [
    "a = p2.x - p1.x \n",
    "b = p2-y - p1.y"
   ]
  },
  {
   "cell_type": "code",
   "execution_count": 5,
   "metadata": {},
   "outputs": [
    {
     "name": "stdout",
     "output_type": "stream",
     "text": [
      "p1: 30 20\n",
      "p2: 60 50\n",
      "42.42640687119285\n"
     ]
    }
   ],
   "source": [
    "class Point2D:\n",
    "    def __init__(self, x, y):\n",
    "        self.x = x\n",
    "        self.y = y\n",
    "\n",
    "p1=Point2D(x=30, y=20)\n",
    "p2=Point2D(x=60, y=50)\n",
    "\n",
    "print('p1: {} {}'.format(p1.x,p1.y))\n",
    "print('p2: {} {}'.format(p2.x,p2.y))\n",
    "\n",
    "a = p2.x - p1.x \n",
    "b = p2.y - p1.y\n",
    "\n",
    "import math\n",
    "\n",
    "c = math.sqrt((a**2 + b**2))\n",
    "print(c)\n"
   ]
  },
  {
   "attachments": {},
   "cell_type": "markdown",
   "metadata": {},
   "source": [
    "\n",
    "__연습문제: 사각형의 넓이 구하기__  \n",
    "다음 소스 코드를 완성하여 사각형의 넓이가 출력되게 만드세요."
   ]
  }
 ],
 "metadata": {
  "kernelspec": {
   "display_name": "base",
   "language": "python",
   "name": "python3"
  },
  "language_info": {
   "codemirror_mode": {
    "name": "ipython",
    "version": 3
   },
   "file_extension": ".py",
   "mimetype": "text/x-python",
   "name": "python",
   "nbconvert_exporter": "python",
   "pygments_lexer": "ipython3",
   "version": "3.8.5"
  },
  "orig_nbformat": 4
 },
 "nbformat": 4,
 "nbformat_minor": 2
}
