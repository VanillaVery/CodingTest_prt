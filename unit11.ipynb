{
 "cells": [
  {
   "attachments": {},
   "cell_type": "markdown",
   "metadata": {},
   "source": [
    "### unit 11. 시퀀스 자료형 활용하기 \n",
    "\n",
    "- 파이썬에서는 리스트, 튜플, range, 문자열처럼 값이 연속적으로 이어진 자료형을 '시퀀스 자료형' 이라고 한다"
   ]
  },
  {
   "attachments": {},
   "cell_type": "markdown",
   "metadata": {},
   "source": [
    "__특정 값이 있는지 확인하기__"
   ]
  },
  {
   "cell_type": "code",
   "execution_count": 2,
   "metadata": {},
   "outputs": [
    {
     "name": "stdout",
     "output_type": "stream",
     "text": [
      "True\n",
      "True\n"
     ]
    }
   ],
   "source": [
    "a=[0,10,20,30,40,50,60,70,80,90]\n",
    "print(30 in a)\n",
    "print(100 not in a)"
   ]
  },
  {
   "attachments": {},
   "cell_type": "markdown",
   "metadata": {},
   "source": [
    "- 시퀀스 객체는 + 연산자를 사용하여 객체를 서로 연결하여 새 객체를 만들 수 있음 \n",
    "- 단, range 는 + 연산자로 객체를 연결할 수 없음 (리스트나 튜플로 만들어 연결하면 됨)"
   ]
  },
  {
   "attachments": {},
   "cell_type": "markdown",
   "metadata": {},
   "source": [
    "__시퀀스 객체 반복하기__\n"
   ]
  },
  {
   "cell_type": "code",
   "execution_count": 5,
   "metadata": {},
   "outputs": [
    {
     "name": "stdout",
     "output_type": "stream",
     "text": [
      "[0, 10, 20, 30, 0, 10, 20, 30, 0, 10, 20, 30]\n",
      "HelloHelloHello\n"
     ]
    }
   ],
   "source": [
    "print([0,10,20,30]*3)\n",
    "print('Hello'*3)"
   ]
  },
  {
   "cell_type": "markdown",
   "metadata": {},
   "source": []
  },
  {
   "attachments": {},
   "cell_type": "markdown",
   "metadata": {},
   "source": [
    "- 시퀀스 자료형 중 튜플, range, 문자열은 읽기 전용이므로 요소 값을 새롭게 할당하거나 삭제할 수 없음\n",
    "\n",
    "__del로 요소 삭제하기__"
   ]
  },
  {
   "cell_type": "code",
   "execution_count": 6,
   "metadata": {},
   "outputs": [
    {
     "data": {
      "text/plain": [
       "[28, 21, 62, 19]"
      ]
     },
     "execution_count": 6,
     "metadata": {},
     "output_type": "execute_result"
    }
   ],
   "source": [
    "a=[28,21,53,62,19]\n",
    "del a[2]\n",
    "a"
   ]
  },
  {
   "attachments": {},
   "cell_type": "markdown",
   "metadata": {},
   "source": [
    "__인덱스 증가폭 사용하기__\n",
    "\n",
    "인덱스의 증가폭을 지정하여 범위 내에서 인덱스를 건너뛰며 요소를 가져올 수 있음\n"
   ]
  },
  {
   "cell_type": "code",
   "execution_count": 9,
   "metadata": {},
   "outputs": [
    {
     "name": "stdout",
     "output_type": "stream",
     "text": [
      "[20, 50, 80]\n",
      "[30, 50, 70, 90]\n",
      "[0, 20, 40, 60, 80]\n"
     ]
    }
   ],
   "source": [
    "a=[0,10,20,30,40,50,60,70,80,90]\n",
    "print(a[2:10:3]) #인덱스 2부터 3씩 증가시키면서 인덱스 9까지 가져옴\n",
    "print(a[3::2]) #인덱스 3부터 끝까지 2씩 증가시키면서 가져옴\n",
    "print(a[::2]) #인덱스 전체에서 2씩 증가시키면서 가져옴"
   ]
  },
  {
   "attachments": {},
   "cell_type": "markdown",
   "metadata": {},
   "source": [
    "- 슬라이스를 사용할 때 인덱스 증가폭을 음수로 지정하면 요소를 뒤에서부터 가져올 수 있음\n",
    "- 주의할 점은, 인덱스가 감소하므로 끝 인덱스보다 시작 인덱스를 더 크게 지정해야 한다는 점\n",
    "- 모든 시퀀스 객체에 사용 가능"
   ]
  },
  {
   "cell_type": "code",
   "execution_count": 11,
   "metadata": {},
   "outputs": [
    {
     "name": "stdout",
     "output_type": "stream",
     "text": [
      "[50, 40, 30, 20]\n",
      "[90, 80, 70, 60, 50, 40, 30, 20, 10, 0]\n"
     ]
    }
   ],
   "source": [
    "print(a[5:1:-1])\n",
    "print(a[::-1])"
   ]
  },
  {
   "attachments": {},
   "cell_type": "markdown",
   "metadata": {},
   "source": [
    "__슬라이스에 요소 할당__\n"
   ]
  },
  {
   "cell_type": "code",
   "execution_count": 12,
   "metadata": {},
   "outputs": [
    {
     "data": {
      "text/plain": [
       "[0, 10, 'a', 'b', 'c', 50, 60, 70, 80, 90]"
      ]
     },
     "execution_count": 12,
     "metadata": {},
     "output_type": "execute_result"
    }
   ],
   "source": [
    "a=[0,10,20,30,40,50,60,70,80,90]\n",
    "a[2:5]=['a','b','c'] #인덱스 2부터 4까지 값 할당 \n",
    "a"
   ]
  },
  {
   "cell_type": "code",
   "execution_count": 13,
   "metadata": {},
   "outputs": [
    {
     "data": {
      "text/plain": [
       "[0, 10, 'a', 50, 60, 70, 80, 90]"
      ]
     },
     "execution_count": 13,
     "metadata": {},
     "output_type": "execute_result"
    }
   ],
   "source": [
    "a=[0,10,20,30,40,50,60,70,80,90]\n",
    "a[2:5]=['a'] #인덱스 2부터 4까지에 값 1개를 할당하여 요소의 개수가 줄어듬 \n",
    "a"
   ]
  },
  {
   "cell_type": "code",
   "execution_count": 14,
   "metadata": {},
   "outputs": [
    {
     "data": {
      "text/plain": [
       "[0, 10, 'a', 'b', 'c', 'd', 'e', 50, 60, 70, 80, 90]"
      ]
     },
     "execution_count": 14,
     "metadata": {},
     "output_type": "execute_result"
    }
   ],
   "source": [
    "a=[0,10,20,30,40,50,60,70,80,90]\n",
    "a[2:5]=['a','b','c','d','e'] #인덱스 2부터 4까지에 값 5개를 할당하여 요소의 개수가 늘어남 \n",
    "a"
   ]
  },
  {
   "cell_type": "code",
   "execution_count": 15,
   "metadata": {},
   "outputs": [
    {
     "data": {
      "text/plain": [
       "[0, 10, 'a', 30, 'b', 50, 'c', 70, 80, 90]"
      ]
     },
     "execution_count": 15,
     "metadata": {},
     "output_type": "execute_result"
    }
   ],
   "source": [
    "a=[0,10,20,30,40,50,60,70,80,90]\n",
    "a[2:8:2]=['a','b','c'] #인덱스 2부터 8까지 2씩 증가시키면서 값을 할당 \n",
    "a"
   ]
  },
  {
   "attachments": {},
   "cell_type": "markdown",
   "metadata": {},
   "source": [
    "__del로 슬라이스 삭제하기__"
   ]
  },
  {
   "cell_type": "code",
   "execution_count": 16,
   "metadata": {},
   "outputs": [
    {
     "data": {
      "text/plain": [
       "[0, 10, 30, 50, 70, 80, 90]"
      ]
     },
     "execution_count": 16,
     "metadata": {},
     "output_type": "execute_result"
    }
   ],
   "source": [
    "a=[0,10,20,30,40,50,60,70,80,90]\n",
    "del a[2:8:2]\n",
    "a"
   ]
  }
 ],
 "metadata": {
  "kernelspec": {
   "display_name": "ellieyj",
   "language": "python",
   "name": "python3"
  },
  "language_info": {
   "codemirror_mode": {
    "name": "ipython",
    "version": 3
   },
   "file_extension": ".py",
   "mimetype": "text/x-python",
   "name": "python",
   "nbconvert_exporter": "python",
   "pygments_lexer": "ipython3",
   "version": "3.8.15"
  },
  "orig_nbformat": 4
 },
 "nbformat": 4,
 "nbformat_minor": 2
}
