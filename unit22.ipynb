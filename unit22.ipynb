{
 "cells": [
  {
   "attachments": {},
   "cell_type": "markdown",
   "metadata": {},
   "source": [
    "### Q & A\n",
    "__어떤 수의 약수는 어떻게 구할까?__  \n",
    "1부터 어떤 수까지 반복한 값으로 어떤 수를 나눴을 때 나머지가 0인 숫자를 찾으면 약수\n"
   ]
  },
  {
   "cell_type": "code",
   "execution_count": 2,
   "metadata": {},
   "outputs": [
    {
     "name": "stdout",
     "output_type": "stream",
     "text": [
      "1 은 9 의 약수입니다\n",
      "3 은 9 의 약수입니다\n",
      "9 은 9 의 약수입니다\n"
     ]
    }
   ],
   "source": [
    "x=9\n",
    "for i in range(1, x+1):\n",
    "    if x%i==0:\n",
    "        print(i,'은',x,'의 약수입니다',sep=' ')\n"
   ]
  },
  {
   "attachments": {},
   "cell_type": "markdown",
   "metadata": {},
   "source": [
    "***\n",
    "### Unit 22. 리스트와 튜플 응용하기\n",
    "__리스트에 요소 추가하기__\n",
    "- append: 요소 하나를 추가\n",
    "- extend: 리스트를 연결하여 확장\n",
    "- insert: 특정 인덱스에 요소 추가"
   ]
  },
  {
   "cell_type": "code",
   "execution_count": 5,
   "metadata": {},
   "outputs": [
    {
     "name": "stdout",
     "output_type": "stream",
     "text": [
      "[10, 20, 30, 500]\n",
      "[10, 20, 30, [500, 600]]\n"
     ]
    },
    {
     "data": {
      "text/plain": [
       "4"
      ]
     },
     "execution_count": 5,
     "metadata": {},
     "output_type": "execute_result"
    }
   ],
   "source": [
    "\"\"\"리스트 끝에 요소 하나 추가하기\"\"\"\n",
    "a = [10, 20, 30]\n",
    "a.append(500)\n",
    "print(a)\n",
    "\n",
    "a = [10, 20, 30]\n",
    "a.append([500, 600]) #리스트 안에 리스트를 추가\n",
    "print(a) #중첩 리스트\n",
    "len(a)\n",
    "\"\"\"append는 리스트의 길이가 1씩 증가\"\"\""
   ]
  },
  {
   "cell_type": "code",
   "execution_count": 6,
   "metadata": {},
   "outputs": [
    {
     "data": {
      "text/plain": [
       "[10, 20, 30, 500, 600]"
      ]
     },
     "execution_count": 6,
     "metadata": {},
     "output_type": "execute_result"
    }
   ],
   "source": [
    "\"\"\"리스트 끝에 요소를 여러 개 추가하려면? 리스트 확장하기(extend)\"\"\"\n",
    "a = [10, 20, 30]\n",
    "a.extend([500, 600])\n",
    "a #리스트와 리스트를 연결한 모양 "
   ]
  },
  {
   "cell_type": "code",
   "execution_count": 7,
   "metadata": {},
   "outputs": [
    {
     "data": {
      "text/plain": [
       "[10, 20, 500, 30]"
      ]
     },
     "execution_count": 7,
     "metadata": {},
     "output_type": "execute_result"
    }
   ],
   "source": [
    "\"\"\"원하는 위치에 요소를 추가하려면? 리스트의 특정 인덱스에 요소 추가하기(insert)\"\"\"\n",
    "a = [10, 20, 30]\n",
    "a.insert(2, 500)\n",
    "a\n"
   ]
  },
  {
   "cell_type": "code",
   "execution_count": 8,
   "metadata": {},
   "outputs": [
    {
     "name": "stdout",
     "output_type": "stream",
     "text": [
      "[500, 10, 20, 30]\n",
      "[10, 20, 30, 500]\n"
     ]
    }
   ],
   "source": [
    "# insert(0, 요소): 리스트의 맨 처음에 요소를 추가\n",
    "# insert(len(리스트), 요소): 리스트 끝에 요소를 추가\n",
    "\n",
    "a = [10, 20, 30]\n",
    "a.insert(0, 500)\n",
    "print(a)\n",
    "\n",
    "a = [10, 20, 30]\n",
    "a.insert(len(a), 500)\n",
    "print(a)"
   ]
  },
  {
   "attachments": {},
   "cell_type": "markdown",
   "metadata": {},
   "source": [
    "insert는 요소 하나를 추가하므로 insert에 리스트를 넣으면 append처럼 리스트 안에 리스트가 들어감.  \n",
    "리스트 중간에 요소 여러 개를 추가하고 싶다면 슬라이스에 요소 할당하기를 활용!"
   ]
  },
  {
   "cell_type": "code",
   "execution_count": 9,
   "metadata": {},
   "outputs": [
    {
     "name": "stdout",
     "output_type": "stream",
     "text": [
      "[10, [500, 600], 20, 30]\n",
      "[10, 500, 600, 20, 30]\n"
     ]
    }
   ],
   "source": [
    "a = [10, 20, 30]\n",
    "a.insert(1, [500, 600])\n",
    "print(a)\n",
    "\n",
    "a=[10,20,30]\n",
    "a[1:1]=[500,600]\n",
    "print(a)"
   ]
  },
  {
   "attachments": {},
   "cell_type": "markdown",
   "metadata": {},
   "source": [
    "__리스트에서 요소 삭제하기__\n",
    "- pop: 마지막 요소 또는 특정 인덱스의 요소를 삭제\n",
    "- remove: 특정 값을 찾아서 삭제"
   ]
  },
  {
   "cell_type": "code",
   "execution_count": 14,
   "metadata": {},
   "outputs": [
    {
     "name": "stdout",
     "output_type": "stream",
     "text": [
      "30\n",
      "[10, 20]\n",
      "20\n",
      "[10, 30]\n",
      "[10, 30]\n"
     ]
    }
   ],
   "source": [
    "\"\"\"pop()은 리스트의 마지막 요소를 삭제한 뒤 삭제한 요소를 반환\"\"\"\n",
    "a = [10, 20, 30]\n",
    "print(a.pop())\n",
    "print(a)\n",
    "\n",
    "a = [10, 20, 30]\n",
    "print(a.pop(1)) #원하는 인덱스의 요소 삭제\n",
    "print(a) \n",
    "\n",
    "\"\"\"참조: del를 사용해도 됨\"\"\"\n",
    "a = [10, 20, 30]\n",
    "del a[1]\n",
    "print(a)"
   ]
  },
  {
   "attachments": {},
   "cell_type": "markdown",
   "metadata": {},
   "source": [
    "__리스트에서 특정 값을 찾아서 삭제하기__\n"
   ]
  },
  {
   "cell_type": "code",
   "execution_count": 15,
   "metadata": {},
   "outputs": [
    {
     "data": {
      "text/plain": [
       "[10, 30]"
      ]
     },
     "execution_count": 15,
     "metadata": {},
     "output_type": "execute_result"
    }
   ],
   "source": [
    "\"\"\"remove(값)은 리스트에서 특정 값을 찾아서 삭제\"\"\"\n",
    "\"\"\"리스트에 같은 값이 여러 개 있을 경우 처음 찾은 값을 삭제\"\"\"\n",
    "a = [10, 20, 30]\n",
    "a.remove(20)\n",
    "a"
   ]
  },
  {
   "attachments": {},
   "cell_type": "markdown",
   "metadata": {},
   "source": [
    "__리스트에서 특정 값의 인덱스 구하기__"
   ]
  },
  {
   "cell_type": "code",
   "execution_count": 16,
   "metadata": {},
   "outputs": [
    {
     "data": {
      "text/plain": [
       "1"
      ]
     },
     "execution_count": 16,
     "metadata": {},
     "output_type": "execute_result"
    }
   ],
   "source": [
    "\"\"\"index(값)은 리스트에서 특정 값의 인덱스를 구함\"\"\"\n",
    "a = [10, 20, 30, 15, 20, 40]\n",
    "a.index(20)"
   ]
  },
  {
   "attachments": {},
   "cell_type": "markdown",
   "metadata": {},
   "source": [
    "__특정 값의 개수 구하기__"
   ]
  },
  {
   "cell_type": "code",
   "execution_count": 17,
   "metadata": {},
   "outputs": [
    {
     "data": {
      "text/plain": [
       "2"
      ]
     },
     "execution_count": 17,
     "metadata": {},
     "output_type": "execute_result"
    }
   ],
   "source": [
    "\"\"\"count(값)은 리스트에서 특정 값의 개수를 구함\"\"\"\n",
    "a = [10, 20, 30, 15, 20, 40]\n",
    "a.count(20)"
   ]
  },
  {
   "attachments": {},
   "cell_type": "markdown",
   "metadata": {},
   "source": [
    "__리스트의 순서를 뒤집기__"
   ]
  },
  {
   "cell_type": "code",
   "execution_count": 19,
   "metadata": {},
   "outputs": [
    {
     "data": {
      "text/plain": [
       "[40, 20, 15, 30, 20, 10]"
      ]
     },
     "execution_count": 19,
     "metadata": {},
     "output_type": "execute_result"
    }
   ],
   "source": [
    "\"\"\"reverse()는 리스트에서 요소의 순서를 반대로 뒤집음\"\"\"\n",
    "a = [10, 20, 30, 15, 20, 40]\n",
    "a.reverse()\n",
    "a"
   ]
  },
  {
   "attachments": {},
   "cell_type": "markdown",
   "metadata": {},
   "source": [
    "__리스트의 요소를 정렬하기__\n",
    "- sort() 또는 sort(reverse=False): 리스트의 값을 작은 순서대로 정렬(오름차순)\n",
    "- sort(reverse=True): 리스트의 값을 큰 순서대로 정렬(내림차순)"
   ]
  },
  {
   "attachments": {},
   "cell_type": "markdown",
   "metadata": {},
   "source": [
    "__리스트의 모든 요소를 삭제하기__"
   ]
  },
  {
   "cell_type": "code",
   "execution_count": 20,
   "metadata": {},
   "outputs": [
    {
     "data": {
      "text/plain": [
       "[]"
      ]
     },
     "execution_count": 20,
     "metadata": {},
     "output_type": "execute_result"
    }
   ],
   "source": [
    "\"\"\"clear()는 리스트의 모든 요소를 삭제\"\"\"\n",
    "a = [10, 20, 30]\n",
    "a.clear()\n",
    "a"
   ]
  },
  {
   "attachments": {},
   "cell_type": "markdown",
   "metadata": {},
   "source": [
    "__리스트를 슬라이스로 조작하기__"
   ]
  },
  {
   "cell_type": "code",
   "execution_count": 23,
   "metadata": {},
   "outputs": [
    {
     "data": {
      "text/plain": [
       "[10, 20, 30, 500]"
      ]
     },
     "execution_count": 23,
     "metadata": {},
     "output_type": "execute_result"
    }
   ],
   "source": [
    "a = [10, 20, 30]\n",
    "a[len(a):] = [500]\n",
    "a"
   ]
  },
  {
   "attachments": {},
   "cell_type": "markdown",
   "metadata": {},
   "source": [
    "__리스트의 할당과 복사 알아보기__\n",
    "- 할당과 복사는 비슷한 것 같지만 큰 차이점이 있음!"
   ]
  },
  {
   "cell_type": "code",
   "execution_count": 25,
   "metadata": {},
   "outputs": [
    {
     "name": "stdout",
     "output_type": "stream",
     "text": [
      "True\n",
      "[0, 0, 99, 0, 0]\n",
      "[0, 0, 99, 0, 0]\n"
     ]
    }
   ],
   "source": [
    "\"\"\"리스트를 다른 변수에 '할당'하면 실제로는 리스트가 한 개\"\"\"\n",
    "a = [0, 0, 0, 0, 0]\n",
    "b = a\n",
    "print(a is b) #같은 객체 \n",
    "\n",
    "b[2]=99\n",
    "print(a)\n",
    "print(b) #같은 객체이므로 리스트 b의 요소를 변경하면 둘 다에 모두 반영"
   ]
  },
  {
   "cell_type": "code",
   "execution_count": 26,
   "metadata": {},
   "outputs": [
    {
     "name": "stdout",
     "output_type": "stream",
     "text": [
      "False\n"
     ]
    }
   ],
   "source": [
    "\"\"\"리스트 a와 b를 완전히 두 개로 만들려면 copy 메서드로 모든 요소를 복사해야 함\"\"\"\n",
    "a = [0, 0, 0, 0, 0]\n",
    "b = a.copy()\n",
    "print(a is b) # 다른 객체 "
   ]
  },
  {
   "attachments": {},
   "cell_type": "markdown",
   "metadata": {},
   "source": [
    "__반복문으로 리스트의 요소를 모두 출력하기__"
   ]
  },
  {
   "cell_type": "code",
   "execution_count": 27,
   "metadata": {},
   "outputs": [
    {
     "name": "stdout",
     "output_type": "stream",
     "text": [
      "1 38\n",
      "2 21\n",
      "3 53\n",
      "4 62\n",
      "5 19\n"
     ]
    }
   ],
   "source": [
    "\"\"\"for 반복문으로 요소를 출력할 때 인덱스도 함께 출력하려면 enumerate\"\"\"\n",
    "\"\"\"인덱스를 1부터 출력하고 싶다면? start=1 지정 \"\"\"\n",
    "a = [38, 21, 53, 62, 19]\n",
    "for index, value in enumerate(a, start=1):\n",
    "    print(index, value)"
   ]
  },
  {
   "attachments": {},
   "cell_type": "markdown",
   "metadata": {},
   "source": [
    "__while반복문으로 요소 출력하기__"
   ]
  },
  {
   "cell_type": "code",
   "execution_count": 28,
   "metadata": {},
   "outputs": [
    {
     "name": "stdout",
     "output_type": "stream",
     "text": [
      "38\n",
      "21\n",
      "53\n",
      "62\n",
      "19\n"
     ]
    }
   ],
   "source": [
    "a = [38, 21, 53, 62, 19]\n",
    "i = 0\n",
    "while i < len(a):\n",
    "    print(a[i])\n",
    "    i += 1"
   ]
  },
  {
   "attachments": {},
   "cell_type": "markdown",
   "metadata": {},
   "source": [
    "__리스트 표현식 사용하기__  \n",
    "리스트 안에 for 반복문과 if 조건문을 사용할 수 있음(list comprehension)\n"
   ]
  },
  {
   "cell_type": "code",
   "execution_count": 32,
   "metadata": {},
   "outputs": [
    {
     "data": {
      "text/plain": [
       "[0, 10, 20, 30, 40]"
      ]
     },
     "execution_count": 32,
     "metadata": {},
     "output_type": "execute_result"
    }
   ],
   "source": [
    "a=[i*5 for i in range(10) if i % 2 == 0]\n",
    "a"
   ]
  },
  {
   "cell_type": "code",
   "execution_count": null,
   "metadata": {},
   "outputs": [],
   "source": [
    "\"\"\"for 반복문과 if 조건문을 여러 번 사용하기\"\"\"\n",
    "a = [i*j for i in range(2,10) \n",
    "        for j in range(1,10)] #처리 순서는 뒤에서 앞으로 \n",
    "a"
   ]
  },
  {
   "attachments": {},
   "cell_type": "markdown",
   "metadata": {},
   "source": [
    "__리스트에 map 사용하기__  \n",
    "map은 리스트의 요소를 지정된 함수로 처리해주는 함수\n",
    "- list(map(함수, 리스트))\n",
    "\n",
    "map에는 리스트뿐만 아니라 모든 반복 가능한 객체를 넣을 수 있음!"
   ]
  },
  {
   "cell_type": "code",
   "execution_count": 36,
   "metadata": {},
   "outputs": [
    {
     "data": {
      "text/plain": [
       "[1, 2, 3, 4]"
      ]
     },
     "execution_count": 36,
     "metadata": {},
     "output_type": "execute_result"
    }
   ],
   "source": [
    "a = [1.2, 2.5, 3.7, 4.6]\n",
    "a = list(map(int, a))\n",
    "a"
   ]
  },
  {
   "cell_type": "code",
   "execution_count": 38,
   "metadata": {},
   "outputs": [
    {
     "data": {
      "text/plain": [
       "['0', '1', '2', '3', '4', '5', '6', '7', '8', '9']"
      ]
     },
     "execution_count": 38,
     "metadata": {},
     "output_type": "execute_result"
    }
   ],
   "source": [
    "a=list(map(str,range(10)))\n",
    "a"
   ]
  },
  {
   "cell_type": "code",
   "execution_count": 46,
   "metadata": {},
   "outputs": [
    {
     "data": {
      "text/plain": [
       "[1.2, 2.5, 3.7, 40, 4.6]"
      ]
     },
     "execution_count": 46,
     "metadata": {},
     "output_type": "execute_result"
    }
   ],
   "source": [
    "a = [1.2, 2.5, 3.7, 4.6]\n",
    "a[-1:-1]=[40]\n",
    "a"
   ]
  },
  {
   "attachments": {},
   "cell_type": "markdown",
   "metadata": {},
   "source": [
    "__연습문제__  \n",
    "표준 입력으로 정수 두 개가 입력됩니다.  \n",
    "(첫 번째 입력 값의 범위는 1~20, 두 번째 입력 값의 범위는 10~30이며 첫 번째 입력 값은 두 번째 입력 값보다 항상 작습니다).  \n",
    "첫 번째 정수부터 두 번째 정수까지를 지수로 하는 2의 거듭제곱 리스트를 출력하는 프로그램을 만드세요(input에서 안내 문자열은 출력하지 않아야 합니다).  \n",
    "단, 리스트의 두 번째 요소와 뒤에서 두 번째 요소는 삭제한 뒤 출력하세요. 출력 결과는 리스트 형태라야 합니다."
   ]
  },
  {
   "cell_type": "code",
   "execution_count": 51,
   "metadata": {},
   "outputs": [
    {
     "name": "stdout",
     "output_type": "stream",
     "text": [
      "[1024, 4096, 8192, 16384, 32768, 65536, 131072, 262144, 1048576]\n"
     ]
    }
   ],
   "source": [
    "x, y = map(int,input().split())\n",
    "\n",
    "list_temp=[2**i for i in range(x,y+1)]\n",
    "list_temp.pop(1)\n",
    "list_temp.pop(-2)\n",
    "print(list_temp)"
   ]
  }
 ],
 "metadata": {
  "kernelspec": {
   "display_name": "ellieyj",
   "language": "python",
   "name": "python3"
  },
  "language_info": {
   "codemirror_mode": {
    "name": "ipython",
    "version": 3
   },
   "file_extension": ".py",
   "mimetype": "text/x-python",
   "name": "python",
   "nbconvert_exporter": "python",
   "pygments_lexer": "ipython3",
   "version": "3.8.15"
  },
  "orig_nbformat": 4
 },
 "nbformat": 4,
 "nbformat_minor": 2
}
