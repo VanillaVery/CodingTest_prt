{
 "cells": [
  {
   "attachments": {},
   "cell_type": "markdown",
   "metadata": {},
   "source": [
    "### Unit 35. 클래스 속성과 정적, 클래스 메서드 사용하기\n",
    "- 클래스 속성: 모든 인스턴스가 공유. 인스턴스 전체가 사용해야 하는 값을 저장할 때 사용\n",
    "- 인스턴스 속성: 인스턴스별로 독립되어 있음. 각 인스턴스가 값을 따로 저장해야 할 때 사용"
   ]
  },
  {
   "cell_type": "code",
   "execution_count": 1,
   "metadata": {},
   "outputs": [
    {
     "name": "stdout",
     "output_type": "stream",
     "text": [
      "['책']\n",
      "['열쇠']\n"
     ]
    }
   ],
   "source": [
    "\"\"\"인스턴스 속성\"\"\"\n",
    "class Person:\n",
    "    def __init__(self):\n",
    "        self.bag = []\n",
    " \n",
    "    def put_bag(self, stuff):\n",
    "        self.bag.append(stuff)\n",
    " \n",
    "james = Person()\n",
    "james.put_bag('책')\n",
    " \n",
    "maria = Person()\n",
    "maria.put_bag('열쇠')\n",
    " \n",
    "print(james.bag)\n",
    "print(maria.bag)"
   ]
  },
  {
   "cell_type": "code",
   "execution_count": 2,
   "metadata": {},
   "outputs": [
    {
     "name": "stdout",
     "output_type": "stream",
     "text": [
      "['책', '열쇠']\n",
      "['책', '열쇠']\n"
     ]
    }
   ],
   "source": [
    "\"\"\"클래스 속성\"\"\"\n",
    "class Person:\n",
    "    bag = []\n",
    " \n",
    "    def put_bag(self, stuff):\n",
    "        Person.bag.append(stuff)\n",
    " \n",
    "james = Person()\n",
    "james.put_bag('책')\n",
    " \n",
    "maria = Person()\n",
    "maria.put_bag('열쇠')\n",
    " \n",
    "print(james.bag)\n",
    "print(maria.bag)"
   ]
  },
  {
   "attachments": {},
   "cell_type": "markdown",
   "metadata": {},
   "source": [
    "__정적 메서드 사용하기__  \n",
    "\n",
    "지금까지는 클래스의 메서드를 사용할 때 인스턴스를 통해 호출하였으나, 정적 메서드와 클래스 메서드는 인스턴스를 통하지 않고 클래스에서 바로 호출 가능\n",
    "\n",
    "정적 메서드는 메서드 위에 @staticmethod를 붙임. 이때 정적 메서드는 매개변수에 self를 지정하지 않음  \n",
    "(앞에 @이 붙은 것을 데코레이터라고 하며 메서드에 추가 기능을 구현할 때 사용)"
   ]
  },
  {
   "cell_type": "code",
   "execution_count": 3,
   "metadata": {},
   "outputs": [
    {
     "name": "stdout",
     "output_type": "stream",
     "text": [
      "30\n",
      "200\n"
     ]
    }
   ],
   "source": [
    "class Calc:\n",
    "    @staticmethod\n",
    "    def add(a, b):\n",
    "        print(a + b)\n",
    "    \n",
    "    @staticmethod\n",
    "    def mul(a, b):\n",
    "        print(a * b)\n",
    "\n",
    "Calc.add(10,20) #클래스에서 바로 메서드 호출\n",
    "Calc.mul(10,20)"
   ]
  },
  {
   "attachments": {},
   "cell_type": "markdown",
   "metadata": {},
   "source": [
    "정적 메서드는 self를 받지 않으므로 인스턴스 속성에는 접근할 수 없음.   \n",
    "그래서 보통 정적 메서드는 인스턴스 속성, 인스턴스 메서드가 필요 없을 때 사용 "
   ]
  },
  {
   "attachments": {},
   "cell_type": "markdown",
   "metadata": {},
   "source": [
    "정적 메서드는 메서드의 실행이 외부 상태에 영향을 끼치지 않는 순수 함수를 만들때 사용.  \n",
    "순수 함수는 side effect가 없고 입력 값이 같으면 언제나 같은 출력 값을 반환.   \n",
    "-> 정적 메서드는 인스턴스의 상태를 변화시키지 않는 메서드를 만들 때 사용"
   ]
  },
  {
   "attachments": {},
   "cell_type": "markdown",
   "metadata": {},
   "source": [
    "__클래스 메서드 사용하기__\n",
    "- 클래스 메서드: 메서드 위에 @classmethod를 붙임  \n",
    "이때 클래스 메서드는 첫 번째 매개변수에 cls를 지정해야 함 "
   ]
  },
  {
   "cell_type": "code",
   "execution_count": 4,
   "metadata": {},
   "outputs": [
    {
     "name": "stdout",
     "output_type": "stream",
     "text": [
      "2명 생성되었습니다.\n"
     ]
    }
   ],
   "source": [
    "\"\"\"인스턴스가 몇 개 만들어졌는지 출력하는 메서드\"\"\"\n",
    "\n",
    "class Person:\n",
    "    count = 0 # 클래스 속성\n",
    "\n",
    "    def __init__(self):\n",
    "        Person.count += 1 #인스턴스가 만들어 질 때 \n",
    "                          # 클래스 속성 count 에 1을 더함 \n",
    "\n",
    "    @classmethod\n",
    "    def print_count(cls):\n",
    "        print('{}명 생성되었습니다.'.format(cls.count))\n",
    "        #cls로 클래스 속성에 접근 \n",
    "\n",
    "james = Person()\n",
    "maria = Person()\n",
    "\n",
    "Person.print_count() #인스턴스 없이 클래스로 호출 "
   ]
  },
  {
   "attachments": {},
   "cell_type": "markdown",
   "metadata": {},
   "source": [
    "클래스 메서드는 메서드 안에서 클래스 속성, 클래스 메서드에 접근해야 할 때 사용 "
   ]
  },
  {
   "attachments": {},
   "cell_type": "markdown",
   "metadata": {},
   "source": [
    "__연습문제: 날짜 클래스 만들기__  \n",
    "\n",
    "다음 소스 코드에서 Date 클래스를 완성하세요.  \n",
    "is_date_valid는 문자열이 올바른 날짜인지 검사하는 메서드입니다.  \n",
    "날짜에서 월은 12월까지 일은 31일까지 있어야 합니다."
   ]
  },
  {
   "cell_type": "code",
   "execution_count": 20,
   "metadata": {},
   "outputs": [
    {
     "name": "stdout",
     "output_type": "stream",
     "text": [
      "올바른 날짜 형식입니다.\n"
     ]
    }
   ],
   "source": [
    "class Date:\n",
    "    @staticmethod\n",
    "    def is_date_valid(x):\n",
    "        if (int(x[5:7]) in range(1,13)) & (int(x[-2:]) in range(1,32)):\n",
    "            return True\n",
    "        else: \n",
    "            return False\n",
    "\n",
    "if Date.is_date_valid('2000-10-31'):\n",
    "    print('올바른 날짜 형식입니다.')\n",
    "else:\n",
    "    print('잘못된 날짜 형식입니다.')\n",
    "            "
   ]
  },
  {
   "cell_type": "code",
   "execution_count": 16,
   "metadata": {},
   "outputs": [
    {
     "data": {
      "text/plain": [
       "True"
      ]
     },
     "execution_count": 16,
     "metadata": {},
     "output_type": "execute_result"
    }
   ],
   "source": [
    "\"\"\"답안\"\"\"\n",
    "@staticmethod\n",
    "def is_date_valid(date_string):\n",
    "    year, month, day = map(int, date_string.split('-'))\n",
    "    return month <= 12 and day <= 31\n",
    "# 조건 검사 (맞으면 True, 아니면 False)\n"
   ]
  },
  {
   "attachments": {},
   "cell_type": "markdown",
   "metadata": {},
   "source": [
    "__심사문제: 시간 클래스 만들기__ \n",
    " \n",
    "표준 입력으로 시:분:초 형식의 시간이 입력됩니다.  \n",
    "다음 소스 코드에서 Time 클래스를 완성하여 시, 분, 초가 출력되게 만드세요.  \n",
    "from_string은 문자열로 인스턴스를 만드는 메서드이며 is_time_valid는 문자열이 올바른 시간인지 검사하는 메서드입니다.  \n",
    "시간은 24시까지, 분은 59분까지, 초는 60초까지 있어야 합니다.  \n",
    "정답에 코드를 작성할 때는 class Time:에 맞춰서 들여쓰기를 해주세요.\n"
   ]
  },
  {
   "cell_type": "code",
   "execution_count": 28,
   "metadata": {},
   "outputs": [],
   "source": [
    "\"\"\"오답\"\"\"\n",
    "\n",
    "class Time:\n",
    "    def __init__(self, hour, minute,second):\n",
    "        self.hour = hour\n",
    "        self.minute = minute\n",
    "        self.second = second\n",
    "\n",
    "\n",
    "    @staticmethod\n",
    "    def is_time_valid(time_string):\n",
    "        hour,minute,second = map(int, time_string.split(':'))\n",
    "        return hour <= 24 and minute <= 59 and second <= 60\n",
    "    \n",
    "    @classmethod\n",
    "    def from_string(cls,time_string):\n",
    "        hour,minute,second = map(int,time_string.split(':'))    \n",
    "        Time.hour=hour\n",
    "        Time.minute=minute\n",
    "        Time.second=second\n",
    "\n",
    "        \n"
   ]
  },
  {
   "cell_type": "code",
   "execution_count": 30,
   "metadata": {},
   "outputs": [],
   "source": [
    "\"\"\"정답\"\"\"\n",
    "\n",
    "class Time:\n",
    "    def __init__(self, hour, minute,second):\n",
    "        self.hour = hour\n",
    "        self.minute = minute\n",
    "        self.second = second\n",
    "\n",
    "\n",
    "    @staticmethod\n",
    "    def is_time_valid(time_string):\n",
    "        hour,minute,second = map(int, time_string.split(':'))\n",
    "        return hour <= 24 and minute <= 59 and second <= 60\n",
    "    \n",
    "    @classmethod\n",
    "    def from_string(cls,time_string):\n",
    "        hour,minute,second = map(int,time_string.split(':'))    \n",
    "        time = Time(hour,minute,second)\n",
    "        return time "
   ]
  },
  {
   "cell_type": "code",
   "execution_count": 31,
   "metadata": {},
   "outputs": [
    {
     "name": "stdout",
     "output_type": "stream",
     "text": [
      "23 35 59\n"
     ]
    }
   ],
   "source": [
    "time_string = '23:35:59'\n",
    " \n",
    "if Time.is_time_valid(time_string):\n",
    "    t = Time.from_string(time_string)\n",
    "    print(t.hour, t.minute, t.second)\n",
    "else:\n",
    "    print('잘못된 시간 형식입니다.')"
   ]
  }
 ],
 "metadata": {
  "kernelspec": {
   "display_name": "ellieyj",
   "language": "python",
   "name": "python3"
  },
  "language_info": {
   "codemirror_mode": {
    "name": "ipython",
    "version": 3
   },
   "file_extension": ".py",
   "mimetype": "text/x-python",
   "name": "python",
   "nbconvert_exporter": "python",
   "pygments_lexer": "ipython3",
   "version": "3.8.5"
  },
  "orig_nbformat": 4
 },
 "nbformat": 4,
 "nbformat_minor": 2
}
