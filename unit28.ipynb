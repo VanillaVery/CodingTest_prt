{
 "cells": [
  {
   "attachments": {},
   "cell_type": "markdown",
   "metadata": {},
   "source": [
    "### Unit 28. 회문 판별과 N-gram 만들기\n",
    "\n",
    "- 회문(palindrome): 순서를 거꾸로 읽어도 제대로 읽은 것과 같은 단어와 문장\n",
    "\n",
    "__회문 판별하기__"
   ]
  },
  {
   "cell_type": "code",
   "execution_count": 5,
   "metadata": {},
   "outputs": [
    {
     "name": "stdout",
     "output_type": "stream",
     "text": [
      "회문이 아닙니다\n"
     ]
    }
   ],
   "source": [
    "\"\"\"예제 보기전에 고민해보기\"\"\"\n",
    "word = list(input())\n",
    "\n",
    "for i in range(len(word)//2):\n",
    "    if word[i]==word[-(i+1)]:\n",
    "        pass\n",
    "    else:\n",
    "        print(\"회문이 아닙니다\")\n",
    "        break\n",
    "    if i==(len(word)//2)-1:\n",
    "        print(\"회문입니다\")\n"
   ]
  },
  {
   "attachments": {},
   "cell_type": "markdown",
   "metadata": {},
   "source": [
    "__반복문으로 문자 검사하기__"
   ]
  },
  {
   "cell_type": "code",
   "execution_count": null,
   "metadata": {},
   "outputs": [],
   "source": [
    "word = input('')\n",
    " \n",
    "is_palindrome = True                 # 회문 판별값을 저장할 변수, 초깃값은 True\n",
    "for i in range(len(word) // 2):      # 0부터 문자열 길이의 절반만큼 반복\n",
    "    if word[i] != word[-1 - i]:      # 왼쪽 문자와 오른쪽 문자를 비교하여 문자가 다르면\n",
    "        is_palindrome = False        # 회문이 아님\n",
    "        break\n",
    " \n",
    "print(is_palindrome)                 # 회문 판별값 출력"
   ]
  },
  {
   "attachments": {},
   "cell_type": "markdown",
   "metadata": {},
   "source": [
    "__시퀀스 뒤집기로 문자 검사하기__\n"
   ]
  },
  {
   "cell_type": "code",
   "execution_count": 6,
   "metadata": {},
   "outputs": [
    {
     "name": "stdout",
     "output_type": "stream",
     "text": [
      "True\n"
     ]
    }
   ],
   "source": [
    "word=input()\n",
    "print(word==word[::-1])"
   ]
  },
  {
   "attachments": {},
   "cell_type": "markdown",
   "metadata": {},
   "source": [
    "__문자열의 join 메서드와 reversed 사용하기__\n"
   ]
  },
  {
   "cell_type": "code",
   "execution_count": 8,
   "metadata": {},
   "outputs": [
    {
     "data": {
      "text/plain": [
       "True"
      ]
     },
     "execution_count": 8,
     "metadata": {},
     "output_type": "execute_result"
    }
   ],
   "source": [
    "word='level'\n",
    "word == ''.join(reversed(word))"
   ]
  },
  {
   "attachments": {},
   "cell_type": "markdown",
   "metadata": {},
   "source": [
    "### N-gram 만들기\n",
    "- N-gram은 문자열에서 N개의 연속된 요소를 추출하는 방법\n",
    "\n",
    "__반복문으로 N-gram 출력하기__"
   ]
  },
  {
   "cell_type": "code",
   "execution_count": 11,
   "metadata": {},
   "outputs": [
    {
     "name": "stdout",
     "output_type": "stream",
     "text": [
      "He\n",
      "el\n",
      "ll\n",
      "lo\n"
     ]
    }
   ],
   "source": [
    "text = 'Hello'\n",
    "\n",
    "for i in range(len(text)-1):\n",
    "    print(text[i],text[i+1],sep='')"
   ]
  },
  {
   "attachments": {},
   "cell_type": "markdown",
   "metadata": {},
   "source": [
    "__단어 단위 N-gram 출력__\n",
    "- 문자열을 공백으로 구분하여 단어 단위 2-gram 출력 "
   ]
  },
  {
   "cell_type": "code",
   "execution_count": 13,
   "metadata": {},
   "outputs": [
    {
     "name": "stdout",
     "output_type": "stream",
     "text": [
      "this is\n",
      "is python\n",
      "python script\n"
     ]
    }
   ],
   "source": [
    "text = 'this is python script'\n",
    "words = text.split()\n",
    "for i in range(len(words) - 1):  \n",
    "    print(words[i], words[i + 1]) "
   ]
  },
  {
   "attachments": {},
   "cell_type": "markdown",
   "metadata": {},
   "source": [
    "__zip으로 2-gram 만들기__\n"
   ]
  },
  {
   "cell_type": "code",
   "execution_count": 18,
   "metadata": {},
   "outputs": [
    {
     "name": "stdout",
     "output_type": "stream",
     "text": [
      "he\n",
      "el\n",
      "ll\n",
      "lo\n"
     ]
    }
   ],
   "source": [
    "text = 'hello'\n",
    " \n",
    "two_gram= zip(text,text[1:])\n",
    "# list(two_gram)\n",
    "\n",
    "for i in two_gram:\n",
    "    print(i[0],i[1],sep='')"
   ]
  },
  {
   "attachments": {},
   "cell_type": "markdown",
   "metadata": {},
   "source": [
    "__zip과 리스트 표현식으로 N-gram 만들기__"
   ]
  },
  {
   "cell_type": "code",
   "execution_count": 19,
   "metadata": {},
   "outputs": [
    {
     "data": {
      "text/plain": [
       "['ellie', 'llie', 'lie']"
      ]
     },
     "execution_count": 19,
     "metadata": {},
     "output_type": "execute_result"
    }
   ],
   "source": [
    "text = 'ellie'\n",
    "[text[i:] for i in range(3)]"
   ]
  },
  {
   "cell_type": "code",
   "execution_count": 21,
   "metadata": {},
   "outputs": [
    {
     "data": {
      "text/plain": [
       "[('ellie',), ('llie',), ('lie',)]"
      ]
     },
     "execution_count": 21,
     "metadata": {},
     "output_type": "execute_result"
    }
   ],
   "source": [
    "list(zip(['ellie', 'llie', 'lie']))"
   ]
  },
  {
   "cell_type": "code",
   "execution_count": 22,
   "metadata": {},
   "outputs": [
    {
     "data": {
      "text/plain": [
       "[('e', 'l', 'l'), ('l', 'l', 'i'), ('l', 'i', 'e')]"
      ]
     },
     "execution_count": 22,
     "metadata": {},
     "output_type": "execute_result"
    }
   ],
   "source": [
    "list(zip(*['ellie', 'llie', 'lie'])) #리스트 언패킹 "
   ]
  },
  {
   "attachments": {},
   "cell_type": "markdown",
   "metadata": {},
   "source": [
    "__연습 문제__  \n",
    "표준 입력으로 정수와 문자열이 각 줄에 입력됩니다. 다음 소스 코드를 완성하여 입력된 숫자에 해당하는 단어 단위 N-gram을 튜플로 출력하세요(리스트 표현식 사용). 만약 입력된 문자열의 단어 개수가 입력된 정수 미만이라면 'wrong'을 출력하세요."
   ]
  },
  {
   "cell_type": "code",
   "execution_count": 24,
   "metadata": {},
   "outputs": [
    {
     "name": "stdout",
     "output_type": "stream",
     "text": [
      "('Python', 'is', 'a', 'programming', 'language', 'that', 'lets')\n",
      "('is', 'a', 'programming', 'language', 'that', 'lets', 'you')\n",
      "('a', 'programming', 'language', 'that', 'lets', 'you', 'work')\n",
      "('programming', 'language', 'that', 'lets', 'you', 'work', 'quickly')\n"
     ]
    }
   ],
   "source": [
    "n = int(input())\n",
    "text = input()\n",
    "words = text.split()\n",
    "\n",
    "if len(words)<n:\n",
    "    print(\"wrong\")\n",
    "else:\n",
    "    n_gram=list(zip(*[words[i:] for i in range(n)]))\n",
    "    for i in n_gram:\n",
    "        print(i)"
   ]
  },
  {
   "attachments": {},
   "cell_type": "markdown",
   "metadata": {},
   "source": [
    "__심사 문제__  \n",
    "단어가 줄 단위로 저장된 words.txt 파일이 주어집니다.  \n",
    "words.txt 파일에서 회문인 단어를 각 줄에 출력하는 프로그램을 만드세요.  \n",
    "단어를 출력할 때는 등장한 순서대로 출력해야 합니다.  \n",
    "그리고 파일에서 읽은 단어는 \\n이 붙어있으므로 \\n을 제외한 뒤 회문인지 판단해야 하며 단어를 출력할 때도 \\n이 출력되면 안 됩니다(단어 사이에 줄바꿈이 두 번 일어나면 안 됨).\n"
   ]
  },
  {
   "cell_type": "code",
   "execution_count": 30,
   "metadata": {},
   "outputs": [
    {
     "name": "stdout",
     "output_type": "stream",
     "text": [
      "did\n",
      "noon\n",
      "refer\n",
      "\n"
     ]
    }
   ],
   "source": [
    "with open(\"words.txt\",\"r\") as file:\n",
    "    line=None\n",
    "    while line!='':\n",
    "        line=file.readline()\n",
    "        if line.strip('\\n')==line.strip('\\n')[::-1]:\n",
    "            print(line.strip(',.\\n'))"
   ]
  },
  {
   "cell_type": "code",
   "execution_count": null,
   "metadata": {},
   "outputs": [],
   "source": []
  }
 ],
 "metadata": {
  "kernelspec": {
   "display_name": "base",
   "language": "python",
   "name": "python3"
  },
  "language_info": {
   "codemirror_mode": {
    "name": "ipython",
    "version": 3
   },
   "file_extension": ".py",
   "mimetype": "text/x-python",
   "name": "python",
   "nbconvert_exporter": "python",
   "pygments_lexer": "ipython3",
   "version": "3.8.5"
  },
  "orig_nbformat": 4
 },
 "nbformat": 4,
 "nbformat_minor": 2
}
