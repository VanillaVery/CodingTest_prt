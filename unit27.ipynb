{
 "cells": [
  {
   "attachments": {},
   "cell_type": "markdown",
   "metadata": {},
   "source": [
    "### Unit 27. 파일 사용하기\n",
    "__파일에 문자열 쓰기__\n",
    "- 파일에 문자열을 쓸 때는 open 함수로 파일을 열어서 파일 객체(file object)를 얻은 뒤에 write 메서드를 사용\n",
    "    - 파일객체 = open(파일이름, 파일모드)\n",
    "    - 파일객체.write('문자열')\n",
    "    - 파일객체.close()"
   ]
  },
  {
   "cell_type": "code",
   "execution_count": 1,
   "metadata": {},
   "outputs": [],
   "source": [
    "file = open(\"hello.txt\",\"w\")\n",
    "file.write('Hello, World!')\n",
    "file.close()\n"
   ]
  },
  {
   "attachments": {},
   "cell_type": "markdown",
   "metadata": {},
   "source": [
    "__파일에서 문자열 읽기__\n",
    "- open 함수로 파일을 열어서 파일 객체를 얻은 뒤 read 메서드로 파일의 내용을 읽음\n",
    "    - 변수 = 파일객체.read()"
   ]
  },
  {
   "cell_type": "code",
   "execution_count": 2,
   "metadata": {},
   "outputs": [
    {
     "name": "stdout",
     "output_type": "stream",
     "text": [
      "Hello, World!\n"
     ]
    }
   ],
   "source": [
    "file = open(\"hello.txt\",\"r\")  # hello.txt 파일을 읽기 모드(r)로 열기. 파일 객체 반환\n",
    "s=file.read() # 파일에서 문자열 읽기\n",
    "print(s)\n",
    "file.close()"
   ]
  },
  {
   "attachments": {},
   "cell_type": "markdown",
   "metadata": {},
   "source": [
    "__자동으로 파일 객체 닫기__\n",
    "- with as를 사용하면 파일을 사용한 뒤 자동으로 파일 객체를 닫아줌"
   ]
  },
  {
   "cell_type": "code",
   "execution_count": 3,
   "metadata": {},
   "outputs": [
    {
     "name": "stdout",
     "output_type": "stream",
     "text": [
      "Hello, World!\n"
     ]
    }
   ],
   "source": [
    "with open(\"hello.txt\",\"r\") as file:\n",
    "    s=file.read()\n",
    "    print(s)"
   ]
  },
  {
   "attachments": {},
   "cell_type": "markdown",
   "metadata": {},
   "source": [
    "__반복문으로 문자열 여러 줄을 파일에 쓰기__\n"
   ]
  },
  {
   "cell_type": "code",
   "execution_count": 4,
   "metadata": {},
   "outputs": [],
   "source": [
    "with open('hello.txt','w') as file:\n",
    "    for i in range(3):\n",
    "        file.write(\"Hello,World! {0}\\n\".format(i))"
   ]
  },
  {
   "attachments": {},
   "cell_type": "markdown",
   "metadata": {},
   "source": [
    "__리스트에 들어있는 문자열을 파일에 쓰기/읽기__\n",
    "- writelines는 리스트에 들어있는 문자열을 파일에 쓰는데, 특히 writelines를 사용할 때는 반드시 리스트의 각 문자열 끝에 개행 문자 \\n을 붙여주어야 함. 그렇지 않으면 문자열이 모두 한 줄로 붙어서 저장되므로 주의\n",
    "\n",
    "- readlines는 파일의 내용을 한 줄씩 리스트 형태로 가져옴"
   ]
  },
  {
   "cell_type": "code",
   "execution_count": 6,
   "metadata": {},
   "outputs": [
    {
     "name": "stdout",
     "output_type": "stream",
     "text": [
      "['안녕하세요.\\n', '파이썬\\n', '코딩 도장입니다.\\n']\n"
     ]
    }
   ],
   "source": [
    "lines = ['안녕하세요.\\n', '파이썬\\n', '코딩 도장입니다.\\n']\n",
    "\n",
    "with open(\"hello.txt\",\"w\") as file:\n",
    "    file.writelines(lines)\n",
    "\n",
    "with open(\"hello.txt\",\"r\") as file:\n",
    "    lines=file.readlines()\n",
    "    print(lines)"
   ]
  },
  {
   "attachments": {},
   "cell_type": "markdown",
   "metadata": {},
   "source": [
    "__파일의 내용을 한 줄씩 읽기__\n",
    "-  readline을 사용\n",
    "\n",
    "- readline으로 파일을 읽을 때는 while 반복문을 활용해야 하는데, 파일에 문자열이 몇 줄이나 있는지 모르기 때문, while은 특정 조건이 만족할 때 계속 반복하므로 파일의 크기에 상관없이 문자열을 읽어올 수 있음\n",
    "- readline은 더 이상 읽을 줄이 없을때 빈 문자열을 반환하는데, while에는 이런 특성을 이용하여 조건식을 만듬,\n",
    "반복문 안에서는 line=file.readline()과 같이 문자열 한 줄을 읽어서 변수 line에 저장 "
   ]
  },
  {
   "cell_type": "code",
   "execution_count": 7,
   "metadata": {},
   "outputs": [
    {
     "name": "stdout",
     "output_type": "stream",
     "text": [
      "안녕하세요.\n",
      "파이썬\n",
      "코딩 도장입니다.\n",
      "\n"
     ]
    }
   ],
   "source": [
    "with open('hello.txt','r') as file:\n",
    "    line = None #변수 line을 None으로 초기화 \n",
    "    while line !='':\n",
    "        line=file.readline()\n",
    "        print(line.strip('\\n')) #파일에서 읽어온 문자열에서 \\n 삭제하여 출력 "
   ]
  },
  {
   "attachments": {},
   "cell_type": "markdown",
   "metadata": {},
   "source": [
    "__for 반복문으로 파일의 내용을 줄 단위로 읽기__"
   ]
  },
  {
   "cell_type": "code",
   "execution_count": 8,
   "metadata": {},
   "outputs": [
    {
     "name": "stdout",
     "output_type": "stream",
     "text": [
      "안녕하세요.\n",
      "파이썬\n",
      "코딩 도장입니다.\n"
     ]
    }
   ],
   "source": [
    "with open('hello.txt', 'r') as file:    # hello.txt 파일을 읽기 모드(r)로 열기\n",
    "    for line in file:    # for에 파일 객체를 지정하면 파일의 내용을 한 줄씩 읽어서 변수에 저장함\n",
    "        print(line.strip('\\n'))    # 파일에서 읽어온 문자열에서 \\n 삭제하여 출력"
   ]
  },
  {
   "attachments": {},
   "cell_type": "markdown",
   "metadata": {},
   "source": [
    "__파이썬 객체를 파일에 저장하기, 가져오기__\n",
    "- 피클링은 pickle 모듈의 dump 메서드를 사용"
   ]
  },
  {
   "cell_type": "code",
   "execution_count": 9,
   "metadata": {},
   "outputs": [],
   "source": [
    "import pickle\n",
    "\n",
    "name = 'james'\n",
    "age = 17\n",
    "address = '서울시 서초구 반포동'\n",
    "scores = {'korean':90,'english':95,'mathmatics':85,'science':85}\n",
    "\n",
    "\"\"\"pickle.dump로 객체를 지정할때는 파일 모드를 wb로 지정해야 함.\"\"\"\n",
    "with open('james.p','wb') as file:\n",
    "    pickle.dump(name,file)\n",
    "    pickle.dump(age,file)\n",
    "    pickle.dump(address,file)\n",
    "    pickle.dump(scores,file)"
   ]
  },
  {
   "attachments": {},
   "cell_type": "markdown",
   "metadata": {},
   "source": [
    "__파일에서 파이썬 객체 읽기__\n",
    "- 언피클링을 할 때는 반드시 파일 모드를 바이너리 읽기 모드 'rb'로 지정\n"
   ]
  },
  {
   "cell_type": "code",
   "execution_count": 10,
   "metadata": {},
   "outputs": [
    {
     "name": "stdout",
     "output_type": "stream",
     "text": [
      "james\n",
      "17\n",
      "서울시 서초구 반포동\n",
      "{'korean': 90, 'english': 95, 'mathmatics': 85, 'science': 85}\n"
     ]
    }
   ],
   "source": [
    "import pickle\n",
    "\n",
    "with open('james.p','rb') as file:\n",
    "    name=pickle.load(file)\n",
    "    age=pickle.load(file)\n",
    "    address=pickle.load(file)\n",
    "    scores=pickle.load(file)\n",
    "    print(name)\n",
    "    print(age)\n",
    "    print(address)\n",
    "    print(scores)"
   ]
  },
  {
   "attachments": {},
   "cell_type": "markdown",
   "metadata": {},
   "source": [
    "__연습문제: 파일에서 10자 이하인 단어 개수 세기__  \n",
    "\n",
    "단어가 줄 단위로 저장된 words.txt 파일이 주어집니다.  \n",
    "다음 소스 코드를 완성하여 10자 이하인 단어의 개수가 출력되게 만드세요.\n",
    "\n",
    "anonymously  \n",
    "compatibility  \n",
    "dashboard  \n",
    "experience  \n",
    "photography  \n",
    "spotlight  \n",
    "warehouse  \n"
   ]
  },
  {
   "cell_type": "code",
   "execution_count": 14,
   "metadata": {},
   "outputs": [
    {
     "name": "stdout",
     "output_type": "stream",
     "text": [
      "['anonymously\\n', 'compatibility\\n', 'dashboard\\n', 'experience\\n', 'photography\\n', 'spotlight\\n', 'warehouse']\n",
      "4\n"
     ]
    }
   ],
   "source": [
    "with open('words.txt','r') as file:\n",
    "    count = 0\n",
    "    words=file.readlines()\n",
    "\n",
    "for word in words:\n",
    "    if len(word.strip('\\n'))<=10:\n",
    "        count+=1\n",
    "print(count)"
   ]
  },
  {
   "attachments": {},
   "cell_type": "markdown",
   "metadata": {},
   "source": [
    "__심사문제: 특정 문자가 들어있는 단어 찾기__\n",
    "\n",
    "문자열이 저장된 words.txt 파일이 주어집니다(문자열은 한 줄로 저장되어 있습니다).  \n",
    "words.txt 파일에서 문자 c가 포함된 단어를 각 줄에 출력하는 프로그램을 만드세요.  \n",
    "단어를 출력할 때는 등장한 순서대로 출력해야 하며 ,(콤마)와 .(점)은 출력하지 않아야 합니다."
   ]
  },
  {
   "cell_type": "code",
   "execution_count": 21,
   "metadata": {},
   "outputs": [
    {
     "name": "stdout",
     "output_type": "stream",
     "text": [
      "dictator\n",
      "subjects\n",
      "change\n",
      "costume\n",
      "elegance\n",
      "accepted\n"
     ]
    }
   ],
   "source": [
    "\n",
    "with open('words.txt','r') as file:\n",
    "    words=file.read()\n",
    "    words=words.split()\n",
    "\n",
    "for word in words:\n",
    "    if 'c' in list(word.strip(',.\\n')):\n",
    "        print(word.strip(',.\\n'))"
   ]
  }
 ],
 "metadata": {
  "kernelspec": {
   "display_name": "ellieyj",
   "language": "python",
   "name": "python3"
  },
  "language_info": {
   "codemirror_mode": {
    "name": "ipython",
    "version": 3
   },
   "file_extension": ".py",
   "mimetype": "text/x-python",
   "name": "python",
   "nbconvert_exporter": "python",
   "pygments_lexer": "ipython3",
   "version": "3.8.15"
  },
  "orig_nbformat": 4
 },
 "nbformat": 4,
 "nbformat_minor": 2
}
