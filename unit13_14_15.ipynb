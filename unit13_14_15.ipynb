{
 "cells": [
  {
   "cell_type": "markdown",
   "metadata": {},
   "source": [
    "### Unit 13. if 조건문으로 특정 조건일 때 코드 실행하기\n",
    "\n",
    "- __연습 문제:__  \n",
    "표준 입력으로 가격(정수)과 쿠폰 이름이 각 줄에 입력됩니다.  \n",
    "Cash3000 쿠폰은 3,000원, Cash5000 쿠폰은 5,000원을 할인합니다.  \n",
    "쿠폰에 따라 할인된 가격을 출력하는 프로그램을 만드세요(input에서 안내 문자열은 출력하지 않아야 합니다)."
   ]
  },
  {
   "cell_type": "code",
   "execution_count": 2,
   "metadata": {},
   "outputs": [
    {
     "name": "stdout",
     "output_type": "stream",
     "text": [
      "9000\n"
     ]
    }
   ],
   "source": [
    "price=int(input())\n",
    "name=input()\n",
    "\n",
    "if name=='Cash3000':\n",
    "    price-=3000\n",
    "\n",
    "if name=='Cash5000':\n",
    "    price-=5000\n",
    "    \n",
    "print(price)\n"
   ]
  },
  {
   "cell_type": "markdown",
   "metadata": {},
   "source": [
    "***\n",
    "### Unit 14. else를 사용하여 두 방향으로 분기하기\n",
    "\n",
    "__if 조건문의 동작 방식 알아보기__\n"
   ]
  },
  {
   "cell_type": "code",
   "execution_count": 3,
   "metadata": {},
   "outputs": [
    {
     "name": "stdout",
     "output_type": "stream",
     "text": [
      "거짓\n"
     ]
    }
   ],
   "source": [
    "if None:\n",
    "    print('참')\n",
    "else:\n",
    "    print('거짓')    # None은 거짓"
   ]
  },
  {
   "cell_type": "markdown",
   "metadata": {},
   "source": [
    "숫자는 0이 아니면 참, 0이면 거짓  \n",
    "문자열은 내용이 있을 때 참, 빈 문자열은 거짓  \n",
    "비어 있는 문자열, 리스트, 튜플, 딕셔너리, 세트: '', \"\", [], (), {}, set()"
   ]
  },
  {
   "cell_type": "code",
   "execution_count": 4,
   "metadata": {},
   "outputs": [
    {
     "name": "stdout",
     "output_type": "stream",
     "text": [
      "거짓\n",
      "거짓\n"
     ]
    }
   ],
   "source": [
    "if 0:\n",
    "    print('참')\n",
    "else:\n",
    "    print('거짓')    # 0은 거짓\n",
    "\n",
    "if '':    # 빈 문자열\n",
    "    print('참')\n",
    "else:\n",
    "    print('거짓')    # 빈 문자열은 거짓"
   ]
  },
  {
   "cell_type": "markdown",
   "metadata": {},
   "source": [
    "- __연습문제:__  \n",
    "표준 입력으로 국어, 영어, 수학, 과학 점수가 입력됩니다.  \n",
    "여기서 네 과목의 평균 점수가 80점 이상일 때 합격이라고 정했습니다.  \n",
    "평균 점수에 따라 '합격', '불합격'을 출력하는 프로그램을 만드세요(input에서 안내 문자열은 출력하지 않아야 합니다).  \n",
    "단, 점수는 0점부터 100점까지만 입력받을 수 있으며 범위를 벗어났다면 '잘못된 점수'를 출력하고 합격, 불합격 여부는 출력하지 않아야 합니다."
   ]
  },
  {
   "cell_type": "code",
   "execution_count": null,
   "metadata": {},
   "outputs": [],
   "source": [
    "korean, english, math, science= map(float,input().split())\n",
    "\n",
    "if 0 <= korean <= 100 and 0 <= english <= 100 and 0 <= math <= 100 and 0 <= science <= 100:\n",
    "\n",
    "    if (korean+english+math+science)/4>=80:\n",
    "        print('합격')\n",
    "    else:\n",
    "        print('불합격')\n",
    "else:\n",
    "    print('잘못된 점수')"
   ]
  },
  {
   "cell_type": "markdown",
   "metadata": {},
   "source": [
    "***\n",
    "### Unit 15. elif를 사용하여 여러 방향으로 분기하기\n"
   ]
  },
  {
   "cell_type": "markdown",
   "metadata": {},
   "source": [
    "- __연습 문제:__ \n",
    "표준 입력으로 나이(만 나이)가 입력됩니다(입력 값은 7 이상 입력됨).  \n",
    "교통카드 시스템에서 시내버스 요금은 다음과 같으며 각 나이에 맞게 요금을 차감한 뒤 잔액이 출력되게 만드세요(if, elif 사용).  \n",
    "현재 교통카드에는 9,000원이 들어있습니다.\n",
    "\n",
    "    - ###### 어린이(초등학생, 만 7세 이상 12세 이하): 650원\n",
    "    - ###### 청소년(중∙고등학생, 만 13세 이상 18세 이하): 1,050원\n",
    "    - ###### 어른(일반, 만 19세 이상): 1,250원\n",
    "\n"
   ]
  },
  {
   "cell_type": "code",
   "execution_count": 2,
   "metadata": {},
   "outputs": [
    {
     "name": "stdout",
     "output_type": "stream",
     "text": [
      "8350\n"
     ]
    }
   ],
   "source": [
    "age = int(input())\n",
    "balance = 9000    # 교통카드 잔액\n",
    "\n",
    "if 7<=age<=12:\n",
    "    balance-=650\n",
    "elif 13<=age<=18:\n",
    "    balance-=1050\n",
    "elif age>=19:\n",
    "    balance-=1250\n",
    "\n",
    "print(balance)"
   ]
  }
 ],
 "metadata": {
  "interpreter": {
   "hash": "a54a3c0473cc949988f6c0baa040a6311115f545dbbe35f367eaa7b3c03e013a"
  },
  "kernelspec": {
   "display_name": "Python 3.8.5 ('base')",
   "language": "python",
   "name": "python3"
  },
  "language_info": {
   "codemirror_mode": {
    "name": "ipython",
    "version": 3
   },
   "file_extension": ".py",
   "mimetype": "text/x-python",
   "name": "python",
   "nbconvert_exporter": "python",
   "pygments_lexer": "ipython3",
   "version": "3.8.5"
  },
  "orig_nbformat": 4
 },
 "nbformat": 4,
 "nbformat_minor": 2
}
